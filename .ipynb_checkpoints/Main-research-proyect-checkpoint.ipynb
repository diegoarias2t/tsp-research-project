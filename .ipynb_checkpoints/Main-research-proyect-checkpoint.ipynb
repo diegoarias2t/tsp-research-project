{
 "cells": [
  {
   "cell_type": "markdown",
   "id": "ede43b8a",
   "metadata": {},
   "source": [
    "### Setup Mario"
   ]
  },
  {
   "cell_type": "code",
   "execution_count": 1,
   "id": "fc0c8d4f",
   "metadata": {
    "scrolled": true
   },
   "outputs": [
    {
     "name": "stdout",
     "output_type": "stream",
     "text": [
      "Defaulting to user installation because normal site-packages is not writeable\n",
      "Collecting gym_super_mario_bros==7.3.0\n",
      "  Downloading gym_super_mario_bros-7.3.0-py2.py3-none-any.whl (198 kB)\n",
      "     |████████████████████████████████| 198 kB 5.8 MB/s            \n",
      "\u001b[?25hCollecting nes_py\n",
      "  Downloading nes_py-8.1.8.tar.gz (76 kB)\n",
      "     |████████████████████████████████| 76 kB 5.5 MB/s             \n",
      "\u001b[?25h  Preparing metadata (setup.py) ... \u001b[?25ldone\n",
      "\u001b[?25hCollecting gym>=0.17.2\n",
      "  Downloading gym-0.21.0.tar.gz (1.5 MB)\n",
      "     |████████████████████████████████| 1.5 MB 5.6 MB/s            \n",
      "\u001b[?25h  Preparing metadata (setup.py) ... \u001b[?25ldone\n",
      "\u001b[?25hRequirement already satisfied: numpy>=1.18.5 in /home/darias/.local/lib/python3.6/site-packages (from nes_py) (1.19.5)\n",
      "Collecting pyglet<=1.5.11,>=1.4.0\n",
      "  Downloading pyglet-1.5.11-py3-none-any.whl (1.1 MB)\n",
      "     |████████████████████████████████| 1.1 MB 5.3 MB/s            \n",
      "\u001b[?25hCollecting tqdm>=4.48.2\n",
      "  Downloading tqdm-4.62.3-py2.py3-none-any.whl (76 kB)\n",
      "     |████████████████████████████████| 76 kB 5.8 MB/s             \n",
      "\u001b[?25hCollecting cloudpickle>=1.2.0\n",
      "  Downloading cloudpickle-2.0.0-py3-none-any.whl (25 kB)\n",
      "Requirement already satisfied: importlib_metadata>=4.8.1 in /usr/local/lib/python3.6/dist-packages (from gym>=0.17.2->nes_py) (4.8.3)\n",
      "Requirement already satisfied: zipp>=0.5 in /usr/local/lib/python3.6/dist-packages (from importlib_metadata>=4.8.1->gym>=0.17.2->nes_py) (3.6.0)\n",
      "Requirement already satisfied: typing-extensions>=3.6.4 in /home/darias/.local/lib/python3.6/site-packages (from importlib_metadata>=4.8.1->gym>=0.17.2->nes_py) (3.7.4.3)\n",
      "Building wheels for collected packages: nes-py, gym\n",
      "  Building wheel for nes-py (setup.py) ... \u001b[?25ldone\n",
      "\u001b[?25h  Created wheel for nes-py: filename=nes_py-8.1.8-cp36-cp36m-linux_x86_64.whl size=439048 sha256=8606b157c2f6f724e732e09f7019fbe06b61292bc88a300624421089803a6125\n",
      "  Stored in directory: /home/darias/.cache/pip/wheels/53/2c/fc/13b8a81dd7af319446e9b1a2cb4546d0c7b48bd1827f36362d\n",
      "  Building wheel for gym (setup.py) ... \u001b[?25ldone\n",
      "\u001b[?25h  Created wheel for gym: filename=gym-0.21.0-py3-none-any.whl size=1616823 sha256=6d46b5908c854b5cbd7845aaf7e4c9e096534a0362a2252b8ab7280266c29b4d\n",
      "  Stored in directory: /home/darias/.cache/pip/wheels/f8/c7/3c/7ad569d779e750220d17a44f731411f0ad79b7b123a2e3a02e\n",
      "Successfully built nes-py gym\n",
      "Installing collected packages: cloudpickle, tqdm, pyglet, gym, nes-py, gym-super-mario-bros\n",
      "Successfully installed cloudpickle-2.0.0 gym-0.21.0 gym-super-mario-bros-7.3.0 nes-py-8.1.8 pyglet-1.5.11 tqdm-4.62.3\n"
     ]
    }
   ],
   "source": [
    "!pip install gym_super_mario_bros==7.3.0 nes_py"
   ]
  },
  {
   "cell_type": "code",
   "execution_count": null,
   "id": "c31f1d47",
   "metadata": {},
   "outputs": [],
   "source": [
    "# Import the game\n",
    "import gym_super_mario_bros\n",
    "# Import the Joypad wrapper\n",
    "from nes_py.wrappers import JoypadSpace\n",
    "# Import the SIMPLIFIED controls\n",
    "from gym_super_mario_bros.actions import SIMPLE_MOVEMENT"
   ]
  },
  {
   "cell_type": "code",
   "execution_count": null,
   "id": "1b0dad2f",
   "metadata": {},
   "outputs": [],
   "source": [
    "# Setup game\n",
    "env = gym_super_mario_bros.make('SuperMarioBros-v0')\n",
    "env = JoypadSpace(env, SIMPLE_MOVEMENT)"
   ]
  },
  {
   "cell_type": "code",
   "execution_count": null,
   "id": "a72f8c0c",
   "metadata": {},
   "outputs": [],
   "source": [
    "# Create a flag - restart or not\n",
    "done = True\n",
    "# Loop through each frame in the game\n",
    "for step in range(100000): \n",
    "    # Start the game to begin with \n",
    "    if done: \n",
    "        # Start the gamee\n",
    "        env.reset()\n",
    "    # Do random actions\n",
    "    state, reward, done, info = env.step(env.action_space.sample())\n",
    "    # Show the game on the screen\n",
    "    env.render()\n",
    "# Close the game\n",
    "env.close()"
   ]
  },
  {
   "cell_type": "markdown",
   "id": "4f922216",
   "metadata": {},
   "source": [
    "### Preprocess Environment"
   ]
  },
  {
   "cell_type": "code",
   "execution_count": null,
   "id": "21490c67",
   "metadata": {},
   "outputs": [],
   "source": [
    "# Install pytorch\n",
    "!pip install torch==1.10.1+cu113 torchvision==0.11.2+cu113 torchaudio===0.10.1+cu113 -f https://download.pytorch.org/whl/cu113/torch_stable.html"
   ]
  },
  {
   "cell_type": "code",
   "execution_count": null,
   "id": "b61ce7f2",
   "metadata": {},
   "outputs": [],
   "source": []
  }
 ],
 "metadata": {
  "kernelspec": {
   "display_name": "Python 3",
   "language": "python",
   "name": "python3"
  },
  "language_info": {
   "codemirror_mode": {
    "name": "ipython",
    "version": 3
   },
   "file_extension": ".py",
   "mimetype": "text/x-python",
   "name": "python",
   "nbconvert_exporter": "python",
   "pygments_lexer": "ipython3",
   "version": "3.6.9"
  }
 },
 "nbformat": 4,
 "nbformat_minor": 5
}
