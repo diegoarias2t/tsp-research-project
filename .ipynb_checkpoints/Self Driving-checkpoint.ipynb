{
 "cells": [
  {
   "cell_type": "markdown",
   "metadata": {},
   "source": [
    "# 1. Import Dependencies"
   ]
  },
  {
   "cell_type": "code",
   "execution_count": null,
   "metadata": {},
   "outputs": [],
   "source": [
    "#Install SWIG https://sourceforge.net/projects/swig/files/swigwin/swigwin-4.0.2/swigwin-4.0.2.zip/download?use_mirror=ixpeering"
   ]
  },
  {
   "cell_type": "code",
   "execution_count": 1,
   "metadata": {},
   "outputs": [
    {
     "name": "stdout",
     "output_type": "stream",
     "text": [
      "Defaulting to user installation because normal site-packages is not writeable\n",
      "Requirement already satisfied: gym[box2d] in /home/darias/.local/lib/python3.6/site-packages (0.15.4)\n",
      "Requirement already satisfied: pyglet==1.3.2 in /home/darias/.local/lib/python3.6/site-packages (1.3.2)\n",
      "Requirement already satisfied: future in /home/darias/.local/lib/python3.6/site-packages (from pyglet==1.3.2) (0.18.2)\n",
      "Requirement already satisfied: cloudpickle~=1.2.0 in /home/darias/.local/lib/python3.6/site-packages (from gym[box2d]) (1.2.2)\n",
      "Requirement already satisfied: opencv-python in /home/darias/.local/lib/python3.6/site-packages (from gym[box2d]) (4.5.5.62)\n",
      "Requirement already satisfied: scipy in /home/darias/.local/lib/python3.6/site-packages (from gym[box2d]) (1.5.4)\n",
      "Requirement already satisfied: six in /home/darias/.local/lib/python3.6/site-packages (from gym[box2d]) (1.15.0)\n",
      "Requirement already satisfied: numpy>=1.10.4 in /home/darias/.local/lib/python3.6/site-packages (from gym[box2d]) (1.19.5)\n",
      "Requirement already satisfied: box2d-py~=2.3.5 in /home/darias/.local/lib/python3.6/site-packages (from gym[box2d]) (2.3.8)\n"
     ]
    }
   ],
   "source": [
    "!pip install gym[box2d] pyglet==1.3.2"
   ]
  },
  {
   "cell_type": "code",
   "execution_count": 1,
   "metadata": {},
   "outputs": [],
   "source": [
    "import gym \n",
    "from stable_baselines3 import PPO\n",
    "from stable_baselines3.common.vec_env import VecFrameStack\n",
    "from stable_baselines3.common.evaluation import evaluate_policy\n",
    "import os\n",
    "\n",
    "import numpy as np\n",
    "from stable_baselines3.common.callbacks import BaseCallback"
   ]
  },
  {
   "cell_type": "markdown",
   "metadata": {},
   "source": [
    "# 2. Test Environment"
   ]
  },
  {
   "cell_type": "code",
   "execution_count": 2,
   "metadata": {},
   "outputs": [],
   "source": [
    "environment_name = \"CarRacing-v0\""
   ]
  },
  {
   "cell_type": "code",
   "execution_count": 3,
   "metadata": {},
   "outputs": [],
   "source": [
    "env = gym.make(environment_name)"
   ]
  },
  {
   "cell_type": "code",
   "execution_count": 4,
   "metadata": {},
   "outputs": [
    {
     "name": "stdout",
     "output_type": "stream",
     "text": [
      "Track generation: 1266..1591 -> 325-tiles track\n"
     ]
    },
    {
     "ename": "KeyboardInterrupt",
     "evalue": "",
     "output_type": "error",
     "traceback": [
      "\u001b[0;31m---------------------------------------------------------------------------\u001b[0m",
      "\u001b[0;31mKeyboardInterrupt\u001b[0m                         Traceback (most recent call last)",
      "\u001b[0;32m<ipython-input-4-c07c36362924>\u001b[0m in \u001b[0;36m<module>\u001b[0;34m\u001b[0m\n\u001b[1;32m      6\u001b[0m \u001b[0;34m\u001b[0m\u001b[0m\n\u001b[1;32m      7\u001b[0m     \u001b[0;32mwhile\u001b[0m \u001b[0;32mnot\u001b[0m \u001b[0mdone\u001b[0m\u001b[0;34m:\u001b[0m\u001b[0;34m\u001b[0m\u001b[0;34m\u001b[0m\u001b[0m\n\u001b[0;32m----> 8\u001b[0;31m         \u001b[0menv\u001b[0m\u001b[0;34m.\u001b[0m\u001b[0mrender\u001b[0m\u001b[0;34m(\u001b[0m\u001b[0;34m)\u001b[0m\u001b[0;34m\u001b[0m\u001b[0;34m\u001b[0m\u001b[0m\n\u001b[0m\u001b[1;32m      9\u001b[0m         \u001b[0maction\u001b[0m \u001b[0;34m=\u001b[0m \u001b[0menv\u001b[0m\u001b[0;34m.\u001b[0m\u001b[0maction_space\u001b[0m\u001b[0;34m.\u001b[0m\u001b[0msample\u001b[0m\u001b[0;34m(\u001b[0m\u001b[0;34m)\u001b[0m\u001b[0;34m\u001b[0m\u001b[0;34m\u001b[0m\u001b[0m\n\u001b[1;32m     10\u001b[0m         \u001b[0mn_state\u001b[0m\u001b[0;34m,\u001b[0m \u001b[0mreward\u001b[0m\u001b[0;34m,\u001b[0m \u001b[0mdone\u001b[0m\u001b[0;34m,\u001b[0m \u001b[0minfo\u001b[0m \u001b[0;34m=\u001b[0m \u001b[0menv\u001b[0m\u001b[0;34m.\u001b[0m\u001b[0mstep\u001b[0m\u001b[0;34m(\u001b[0m\u001b[0maction\u001b[0m\u001b[0;34m)\u001b[0m\u001b[0;34m\u001b[0m\u001b[0;34m\u001b[0m\u001b[0m\n",
      "\u001b[0;32m~/.local/lib/python3.6/site-packages/gym/core.py\u001b[0m in \u001b[0;36mrender\u001b[0;34m(self, mode, **kwargs)\u001b[0m\n\u001b[1;32m    233\u001b[0m \u001b[0;34m\u001b[0m\u001b[0m\n\u001b[1;32m    234\u001b[0m     \u001b[0;32mdef\u001b[0m \u001b[0mrender\u001b[0m\u001b[0;34m(\u001b[0m\u001b[0mself\u001b[0m\u001b[0;34m,\u001b[0m \u001b[0mmode\u001b[0m\u001b[0;34m=\u001b[0m\u001b[0;34m'human'\u001b[0m\u001b[0;34m,\u001b[0m \u001b[0;34m**\u001b[0m\u001b[0mkwargs\u001b[0m\u001b[0;34m)\u001b[0m\u001b[0;34m:\u001b[0m\u001b[0;34m\u001b[0m\u001b[0;34m\u001b[0m\u001b[0m\n\u001b[0;32m--> 235\u001b[0;31m         \u001b[0;32mreturn\u001b[0m \u001b[0mself\u001b[0m\u001b[0;34m.\u001b[0m\u001b[0menv\u001b[0m\u001b[0;34m.\u001b[0m\u001b[0mrender\u001b[0m\u001b[0;34m(\u001b[0m\u001b[0mmode\u001b[0m\u001b[0;34m,\u001b[0m \u001b[0;34m**\u001b[0m\u001b[0mkwargs\u001b[0m\u001b[0;34m)\u001b[0m\u001b[0;34m\u001b[0m\u001b[0;34m\u001b[0m\u001b[0m\n\u001b[0m\u001b[1;32m    236\u001b[0m \u001b[0;34m\u001b[0m\u001b[0m\n\u001b[1;32m    237\u001b[0m     \u001b[0;32mdef\u001b[0m \u001b[0mclose\u001b[0m\u001b[0;34m(\u001b[0m\u001b[0mself\u001b[0m\u001b[0;34m)\u001b[0m\u001b[0;34m:\u001b[0m\u001b[0;34m\u001b[0m\u001b[0;34m\u001b[0m\u001b[0m\n",
      "\u001b[0;32m~/.local/lib/python3.6/site-packages/gym/envs/box2d/car_racing.py\u001b[0m in \u001b[0;36mrender\u001b[0;34m(self, mode)\u001b[0m\n\u001b[1;32m    392\u001b[0m         \u001b[0mgl\u001b[0m\u001b[0;34m.\u001b[0m\u001b[0mglViewport\u001b[0m\u001b[0;34m(\u001b[0m\u001b[0;36m0\u001b[0m\u001b[0;34m,\u001b[0m \u001b[0;36m0\u001b[0m\u001b[0;34m,\u001b[0m \u001b[0mVP_W\u001b[0m\u001b[0;34m,\u001b[0m \u001b[0mVP_H\u001b[0m\u001b[0;34m)\u001b[0m\u001b[0;34m\u001b[0m\u001b[0;34m\u001b[0m\u001b[0m\n\u001b[1;32m    393\u001b[0m         \u001b[0mt\u001b[0m\u001b[0;34m.\u001b[0m\u001b[0menable\u001b[0m\u001b[0;34m(\u001b[0m\u001b[0;34m)\u001b[0m\u001b[0;34m\u001b[0m\u001b[0;34m\u001b[0m\u001b[0m\n\u001b[0;32m--> 394\u001b[0;31m         \u001b[0mself\u001b[0m\u001b[0;34m.\u001b[0m\u001b[0mrender_road\u001b[0m\u001b[0;34m(\u001b[0m\u001b[0;34m)\u001b[0m\u001b[0;34m\u001b[0m\u001b[0;34m\u001b[0m\u001b[0m\n\u001b[0m\u001b[1;32m    395\u001b[0m         \u001b[0;32mfor\u001b[0m \u001b[0mgeom\u001b[0m \u001b[0;32min\u001b[0m \u001b[0mself\u001b[0m\u001b[0;34m.\u001b[0m\u001b[0mviewer\u001b[0m\u001b[0;34m.\u001b[0m\u001b[0monetime_geoms\u001b[0m\u001b[0;34m:\u001b[0m\u001b[0;34m\u001b[0m\u001b[0;34m\u001b[0m\u001b[0m\n\u001b[1;32m    396\u001b[0m             \u001b[0mgeom\u001b[0m\u001b[0;34m.\u001b[0m\u001b[0mrender\u001b[0m\u001b[0;34m(\u001b[0m\u001b[0;34m)\u001b[0m\u001b[0;34m\u001b[0m\u001b[0;34m\u001b[0m\u001b[0m\n",
      "\u001b[0;32m~/.local/lib/python3.6/site-packages/gym/envs/box2d/car_racing.py\u001b[0m in \u001b[0;36mrender_road\u001b[0;34m(self)\u001b[0m\n\u001b[1;32m    429\u001b[0m                 \u001b[0mgl\u001b[0m\u001b[0;34m.\u001b[0m\u001b[0mglVertex3f\u001b[0m\u001b[0;34m(\u001b[0m\u001b[0mk\u001b[0m\u001b[0;34m*\u001b[0m\u001b[0mx\u001b[0m \u001b[0;34m+\u001b[0m \u001b[0;36m0\u001b[0m\u001b[0;34m,\u001b[0m \u001b[0mk\u001b[0m\u001b[0;34m*\u001b[0m\u001b[0my\u001b[0m \u001b[0;34m+\u001b[0m \u001b[0;36m0\u001b[0m\u001b[0;34m,\u001b[0m \u001b[0;36m0\u001b[0m\u001b[0;34m)\u001b[0m\u001b[0;34m\u001b[0m\u001b[0;34m\u001b[0m\u001b[0m\n\u001b[1;32m    430\u001b[0m                 \u001b[0mgl\u001b[0m\u001b[0;34m.\u001b[0m\u001b[0mglVertex3f\u001b[0m\u001b[0;34m(\u001b[0m\u001b[0mk\u001b[0m\u001b[0;34m*\u001b[0m\u001b[0mx\u001b[0m \u001b[0;34m+\u001b[0m \u001b[0;36m0\u001b[0m\u001b[0;34m,\u001b[0m \u001b[0mk\u001b[0m\u001b[0;34m*\u001b[0m\u001b[0my\u001b[0m \u001b[0;34m+\u001b[0m \u001b[0mk\u001b[0m\u001b[0;34m,\u001b[0m \u001b[0;36m0\u001b[0m\u001b[0;34m)\u001b[0m\u001b[0;34m\u001b[0m\u001b[0;34m\u001b[0m\u001b[0m\n\u001b[0;32m--> 431\u001b[0;31m                 \u001b[0mgl\u001b[0m\u001b[0;34m.\u001b[0m\u001b[0mglVertex3f\u001b[0m\u001b[0;34m(\u001b[0m\u001b[0mk\u001b[0m\u001b[0;34m*\u001b[0m\u001b[0mx\u001b[0m \u001b[0;34m+\u001b[0m \u001b[0mk\u001b[0m\u001b[0;34m,\u001b[0m \u001b[0mk\u001b[0m\u001b[0;34m*\u001b[0m\u001b[0my\u001b[0m \u001b[0;34m+\u001b[0m \u001b[0mk\u001b[0m\u001b[0;34m,\u001b[0m \u001b[0;36m0\u001b[0m\u001b[0;34m)\u001b[0m\u001b[0;34m\u001b[0m\u001b[0;34m\u001b[0m\u001b[0m\n\u001b[0m\u001b[1;32m    432\u001b[0m         \u001b[0;32mfor\u001b[0m \u001b[0mpoly\u001b[0m\u001b[0;34m,\u001b[0m \u001b[0mcolor\u001b[0m \u001b[0;32min\u001b[0m \u001b[0mself\u001b[0m\u001b[0;34m.\u001b[0m\u001b[0mroad_poly\u001b[0m\u001b[0;34m:\u001b[0m\u001b[0;34m\u001b[0m\u001b[0;34m\u001b[0m\u001b[0m\n\u001b[1;32m    433\u001b[0m             \u001b[0mgl\u001b[0m\u001b[0;34m.\u001b[0m\u001b[0mglColor4f\u001b[0m\u001b[0;34m(\u001b[0m\u001b[0mcolor\u001b[0m\u001b[0;34m[\u001b[0m\u001b[0;36m0\u001b[0m\u001b[0;34m]\u001b[0m\u001b[0;34m,\u001b[0m \u001b[0mcolor\u001b[0m\u001b[0;34m[\u001b[0m\u001b[0;36m1\u001b[0m\u001b[0;34m]\u001b[0m\u001b[0;34m,\u001b[0m \u001b[0mcolor\u001b[0m\u001b[0;34m[\u001b[0m\u001b[0;36m2\u001b[0m\u001b[0;34m]\u001b[0m\u001b[0;34m,\u001b[0m \u001b[0;36m1\u001b[0m\u001b[0;34m)\u001b[0m\u001b[0;34m\u001b[0m\u001b[0;34m\u001b[0m\u001b[0m\n",
      "\u001b[0;32m~/.local/lib/python3.6/site-packages/pyglet/__init__.py\u001b[0m in \u001b[0;36m__getattr__\u001b[0;34m(self, name)\u001b[0m\n\u001b[1;32m    374\u001b[0m         \u001b[0mself\u001b[0m\u001b[0;34m.\u001b[0m\u001b[0m__dict__\u001b[0m\u001b[0;34m[\u001b[0m\u001b[0;34m'_module_name'\u001b[0m\u001b[0;34m]\u001b[0m \u001b[0;34m=\u001b[0m \u001b[0mname\u001b[0m\u001b[0;34m\u001b[0m\u001b[0;34m\u001b[0m\u001b[0m\n\u001b[1;32m    375\u001b[0m \u001b[0;34m\u001b[0m\u001b[0m\n\u001b[0;32m--> 376\u001b[0;31m     \u001b[0;32mdef\u001b[0m \u001b[0m__getattr__\u001b[0m\u001b[0;34m(\u001b[0m\u001b[0mself\u001b[0m\u001b[0;34m,\u001b[0m \u001b[0mname\u001b[0m\u001b[0;34m)\u001b[0m\u001b[0;34m:\u001b[0m\u001b[0;34m\u001b[0m\u001b[0;34m\u001b[0m\u001b[0m\n\u001b[0m\u001b[1;32m    377\u001b[0m         \u001b[0;32mtry\u001b[0m\u001b[0;34m:\u001b[0m\u001b[0;34m\u001b[0m\u001b[0;34m\u001b[0m\u001b[0m\n\u001b[1;32m    378\u001b[0m             \u001b[0;32mreturn\u001b[0m \u001b[0mgetattr\u001b[0m\u001b[0;34m(\u001b[0m\u001b[0mself\u001b[0m\u001b[0;34m.\u001b[0m\u001b[0m_module\u001b[0m\u001b[0;34m,\u001b[0m \u001b[0mname\u001b[0m\u001b[0;34m)\u001b[0m\u001b[0;34m\u001b[0m\u001b[0;34m\u001b[0m\u001b[0m\n",
      "\u001b[0;31mKeyboardInterrupt\u001b[0m: "
     ]
    }
   ],
   "source": [
    "episodes = 5\n",
    "for episode in range(1, episodes+1):\n",
    "    state = env.reset()\n",
    "    done = False\n",
    "    score = 0 \n",
    "    \n",
    "    while not done:\n",
    "        env.render()\n",
    "        action = env.action_space.sample()\n",
    "        n_state, reward, done, info = env.step(action)\n",
    "        score+=reward\n",
    "    print('Episode:{} Score:{}'.format(episode, score))\n",
    "env.close()"
   ]
  },
  {
   "cell_type": "code",
   "execution_count": 5,
   "metadata": {},
   "outputs": [],
   "source": [
    "env.close()"
   ]
  },
  {
   "cell_type": "code",
   "execution_count": 6,
   "metadata": {},
   "outputs": [
    {
     "data": {
      "text/plain": [
       "array([-0.67498875,  0.56153864,  0.06481583], dtype=float32)"
      ]
     },
     "execution_count": 6,
     "metadata": {},
     "output_type": "execute_result"
    }
   ],
   "source": [
    "env.action_space.sample()"
   ]
  },
  {
   "cell_type": "code",
   "execution_count": 7,
   "metadata": {
    "scrolled": true
   },
   "outputs": [
    {
     "data": {
      "text/plain": [
       "array([[[ 72, 178, 180],\n",
       "        [167, 114,  66],\n",
       "        [226, 236, 111],\n",
       "        ...,\n",
       "        [  9, 116, 134],\n",
       "        [132,  48, 217],\n",
       "        [ 70,  10, 129]],\n",
       "\n",
       "       [[104, 132,  14],\n",
       "        [ 72, 169, 234],\n",
       "        [ 61, 154, 154],\n",
       "        ...,\n",
       "        [ 36, 157,  25],\n",
       "        [146, 151,  41],\n",
       "        [ 39, 186,   4]],\n",
       "\n",
       "       [[111, 242,  33],\n",
       "        [178,  56,  52],\n",
       "        [ 19, 191, 204],\n",
       "        ...,\n",
       "        [224, 130, 163],\n",
       "        [146, 197,  63],\n",
       "        [ 77,  68, 194]],\n",
       "\n",
       "       ...,\n",
       "\n",
       "       [[ 41, 135, 255],\n",
       "        [136, 117,  24],\n",
       "        [126, 175,  33],\n",
       "        ...,\n",
       "        [157,  43,  29],\n",
       "        [ 40, 189, 141],\n",
       "        [ 47,  50, 214]],\n",
       "\n",
       "       [[134,   4, 239],\n",
       "        [213, 145,  18],\n",
       "        [ 32, 240, 123],\n",
       "        ...,\n",
       "        [ 50,  33,  19],\n",
       "        [138,  97,  63],\n",
       "        [ 61,  16, 167]],\n",
       "\n",
       "       [[ 11,   6, 129],\n",
       "        [ 45, 212, 198],\n",
       "        [199,  51, 217],\n",
       "        ...,\n",
       "        [208, 141, 245],\n",
       "        [190,  62, 130],\n",
       "        [212,  67,  67]]], dtype=uint8)"
      ]
     },
     "execution_count": 7,
     "metadata": {},
     "output_type": "execute_result"
    }
   ],
   "source": [
    "env.observation_space.sample()"
   ]
  },
  {
   "cell_type": "markdown",
   "metadata": {},
   "source": [
    "# Callback function"
   ]
  },
  {
   "cell_type": "code",
   "execution_count": 1,
   "metadata": {},
   "outputs": [
    {
     "name": "stdout",
     "output_type": "stream",
     "text": [
      "Defaulting to user installation because normal site-packages is not writeable\n",
      "Requirement already satisfied: tensorflow==1.15.2 in /home/darias/.local/lib/python3.6/site-packages (1.15.2)\n",
      "Requirement already satisfied: keras-preprocessing>=1.0.5 in /home/darias/.local/lib/python3.6/site-packages (from tensorflow==1.15.2) (1.1.2)\n",
      "Requirement already satisfied: six>=1.10.0 in /home/darias/.local/lib/python3.6/site-packages (from tensorflow==1.15.2) (1.15.0)\n",
      "Requirement already satisfied: grpcio>=1.8.6 in /home/darias/.local/lib/python3.6/site-packages (from tensorflow==1.15.2) (1.43.0)\n",
      "Requirement already satisfied: gast==0.2.2 in /home/darias/.local/lib/python3.6/site-packages (from tensorflow==1.15.2) (0.2.2)\n",
      "Requirement already satisfied: termcolor>=1.1.0 in /home/darias/.local/lib/python3.6/site-packages (from tensorflow==1.15.2) (1.1.0)\n",
      "Requirement already satisfied: wheel>=0.26 in /home/darias/.local/lib/python3.6/site-packages (from tensorflow==1.15.2) (0.37.1)\n",
      "Requirement already satisfied: keras-applications>=1.0.8 in /home/darias/.local/lib/python3.6/site-packages (from tensorflow==1.15.2) (1.0.8)\n",
      "Requirement already satisfied: tensorboard<1.16.0,>=1.15.0 in /home/darias/.local/lib/python3.6/site-packages (from tensorflow==1.15.2) (1.15.0)\n",
      "Requirement already satisfied: tensorflow-estimator==1.15.1 in /home/darias/.local/lib/python3.6/site-packages (from tensorflow==1.15.2) (1.15.1)\n",
      "Requirement already satisfied: wrapt>=1.11.1 in /home/darias/.local/lib/python3.6/site-packages (from tensorflow==1.15.2) (1.12.1)\n",
      "Requirement already satisfied: absl-py>=0.7.0 in /home/darias/.local/lib/python3.6/site-packages (from tensorflow==1.15.2) (0.15.0)\n",
      "Requirement already satisfied: opt-einsum>=2.3.2 in /home/darias/.local/lib/python3.6/site-packages (from tensorflow==1.15.2) (3.3.0)\n",
      "Requirement already satisfied: protobuf>=3.6.1 in /home/darias/.local/lib/python3.6/site-packages (from tensorflow==1.15.2) (3.19.1)\n",
      "Requirement already satisfied: numpy<2.0,>=1.16.0 in /home/darias/.local/lib/python3.6/site-packages (from tensorflow==1.15.2) (1.19.5)\n",
      "Requirement already satisfied: google-pasta>=0.1.6 in /home/darias/.local/lib/python3.6/site-packages (from tensorflow==1.15.2) (0.2.0)\n",
      "Requirement already satisfied: astor>=0.6.0 in /home/darias/.local/lib/python3.6/site-packages (from tensorflow==1.15.2) (0.8.1)\n",
      "Requirement already satisfied: h5py in /home/darias/.local/lib/python3.6/site-packages (from keras-applications>=1.0.8->tensorflow==1.15.2) (3.1.0)\n",
      "Requirement already satisfied: markdown>=2.6.8 in /home/darias/.local/lib/python3.6/site-packages (from tensorboard<1.16.0,>=1.15.0->tensorflow==1.15.2) (3.3.6)\n",
      "Requirement already satisfied: setuptools>=41.0.0 in /home/darias/.local/lib/python3.6/site-packages (from tensorboard<1.16.0,>=1.15.0->tensorflow==1.15.2) (59.6.0)\n",
      "Requirement already satisfied: werkzeug>=0.11.15 in /home/darias/.local/lib/python3.6/site-packages (from tensorboard<1.16.0,>=1.15.0->tensorflow==1.15.2) (2.0.2)\n",
      "Requirement already satisfied: importlib-metadata>=4.4 in /usr/local/lib/python3.6/dist-packages (from markdown>=2.6.8->tensorboard<1.16.0,>=1.15.0->tensorflow==1.15.2) (4.8.3)\n",
      "Requirement already satisfied: dataclasses in /home/darias/.local/lib/python3.6/site-packages (from werkzeug>=0.11.15->tensorboard<1.16.0,>=1.15.0->tensorflow==1.15.2) (0.8)\n",
      "Requirement already satisfied: cached-property in /home/darias/.local/lib/python3.6/site-packages (from h5py->keras-applications>=1.0.8->tensorflow==1.15.2) (1.5.2)\n",
      "Requirement already satisfied: typing-extensions>=3.6.4 in /home/darias/.local/lib/python3.6/site-packages (from importlib-metadata>=4.4->markdown>=2.6.8->tensorboard<1.16.0,>=1.15.0->tensorflow==1.15.2) (3.7.4.3)\n",
      "Requirement already satisfied: zipp>=0.5 in /usr/local/lib/python3.6/dist-packages (from importlib-metadata>=4.4->markdown>=2.6.8->tensorboard<1.16.0,>=1.15.0->tensorflow==1.15.2) (3.6.0)\n",
      "Note: you may need to restart the kernel to use updated packages.\n"
     ]
    }
   ],
   "source": [
    "pip install tensorflow==1.15.2"
   ]
  },
  {
   "cell_type": "code",
   "execution_count": 2,
   "metadata": {},
   "outputs": [
    {
     "name": "stdout",
     "output_type": "stream",
     "text": [
      "E: Could not open lock file /var/lib/dpkg/lock-frontend - open (13: Permission denied)\n",
      "E: Unable to acquire the dpkg frontend lock (/var/lib/dpkg/lock-frontend), are you root?\n",
      "Defaulting to user installation because normal site-packages is not writeable\n",
      "Requirement already satisfied: stable-baselines[mpi]==2.10.2 in /home/darias/.local/lib/python3.6/site-packages (2.10.2)\n",
      "Collecting box2d\n",
      "  Using cached Box2D-2.3.10-cp36-cp36m-manylinux1_x86_64.whl (1.3 MB)\n",
      "Collecting box2d-kengz\n",
      "  Using cached Box2D_kengz-2.3.3-cp36-cp36m-linux_x86_64.whl\n",
      "Requirement already satisfied: numpy in /home/darias/.local/lib/python3.6/site-packages (from stable-baselines[mpi]==2.10.2) (1.19.5)\n",
      "Requirement already satisfied: pandas in /home/darias/.local/lib/python3.6/site-packages (from stable-baselines[mpi]==2.10.2) (1.1.5)\n",
      "Requirement already satisfied: opencv-python in /home/darias/.local/lib/python3.6/site-packages (from stable-baselines[mpi]==2.10.2) (4.5.5.62)\n",
      "Requirement already satisfied: gym[atari,classic_control]>=0.11 in /home/darias/.local/lib/python3.6/site-packages (from stable-baselines[mpi]==2.10.2) (0.15.4)\n",
      "Requirement already satisfied: matplotlib in /home/darias/.local/lib/python3.6/site-packages (from stable-baselines[mpi]==2.10.2) (3.3.4)\n",
      "Requirement already satisfied: joblib in /home/darias/.local/lib/python3.6/site-packages (from stable-baselines[mpi]==2.10.2) (1.1.0)\n",
      "Requirement already satisfied: scipy in /home/darias/.local/lib/python3.6/site-packages (from stable-baselines[mpi]==2.10.2) (1.5.4)\n",
      "Requirement already satisfied: cloudpickle>=0.5.5 in /home/darias/.local/lib/python3.6/site-packages (from stable-baselines[mpi]==2.10.2) (1.2.2)\n",
      "Collecting mpi4py\n",
      "  Using cached mpi4py-3.1.3.tar.gz (2.5 MB)\n",
      "  Installing build dependencies ... \u001b[?25ldone\n",
      "\u001b[?25h  Getting requirements to build wheel ... \u001b[?25ldone\n",
      "\u001b[?25h  Preparing metadata (pyproject.toml) ... \u001b[?25ldone\n",
      "\u001b[?25hRequirement already satisfied: pyglet<=1.3.2,>=1.2.0 in /home/darias/.local/lib/python3.6/site-packages (from gym[atari,classic_control]>=0.11->stable-baselines[mpi]==2.10.2) (1.3.2)\n",
      "Requirement already satisfied: six in /home/darias/.local/lib/python3.6/site-packages (from gym[atari,classic_control]>=0.11->stable-baselines[mpi]==2.10.2) (1.15.0)\n",
      "Requirement already satisfied: atari-py~=0.2.0 in /home/darias/.local/lib/python3.6/site-packages (from gym[atari,classic_control]>=0.11->stable-baselines[mpi]==2.10.2) (0.2.9)\n",
      "Requirement already satisfied: Pillow in /home/darias/.local/lib/python3.6/site-packages (from gym[atari,classic_control]>=0.11->stable-baselines[mpi]==2.10.2) (8.4.0)\n",
      "Requirement already satisfied: python-dateutil>=2.1 in /home/darias/.local/lib/python3.6/site-packages (from matplotlib->stable-baselines[mpi]==2.10.2) (2.8.2)\n",
      "Requirement already satisfied: pyparsing!=2.0.4,!=2.1.2,!=2.1.6,>=2.0.3 in /home/darias/.local/lib/python3.6/site-packages (from matplotlib->stable-baselines[mpi]==2.10.2) (3.0.6)\n",
      "Requirement already satisfied: kiwisolver>=1.0.1 in /home/darias/.local/lib/python3.6/site-packages (from matplotlib->stable-baselines[mpi]==2.10.2) (1.3.1)\n",
      "Requirement already satisfied: cycler>=0.10 in /home/darias/.local/lib/python3.6/site-packages (from matplotlib->stable-baselines[mpi]==2.10.2) (0.11.0)\n",
      "Requirement already satisfied: pytz>=2017.2 in /usr/lib/python3/dist-packages (from pandas->stable-baselines[mpi]==2.10.2) (2018.3)\n",
      "Requirement already satisfied: future in /home/darias/.local/lib/python3.6/site-packages (from pyglet<=1.3.2,>=1.2.0->gym[atari,classic_control]>=0.11->stable-baselines[mpi]==2.10.2) (0.18.2)\n",
      "Building wheels for collected packages: mpi4py\n",
      "  Building wheel for mpi4py (pyproject.toml) ... \u001b[?25lerror\n",
      "\u001b[31m  ERROR: Command errored out with exit status 1:\n",
      "   command: /usr/bin/python3 /usr/local/lib/python3.6/dist-packages/pip/_vendor/pep517/in_process/_in_process.py build_wheel /tmp/tmpa1i30p50\n",
      "       cwd: /tmp/pip-install-lc7ckjgg/mpi4py_afc3cbb55ffb48e6adff79177a62e77d\n",
      "  Complete output (148 lines):\n",
      "  running bdist_wheel\n",
      "  running build\n",
      "  running build_src\n",
      "  running build_py\n",
      "  creating build\n",
      "  creating build/lib.linux-x86_64-3.6\n",
      "  creating build/lib.linux-x86_64-3.6/mpi4py\n",
      "  copying src/mpi4py/run.py -> build/lib.linux-x86_64-3.6/mpi4py\n",
      "  copying src/mpi4py/__init__.py -> build/lib.linux-x86_64-3.6/mpi4py\n",
      "  copying src/mpi4py/bench.py -> build/lib.linux-x86_64-3.6/mpi4py\n",
      "  copying src/mpi4py/__main__.py -> build/lib.linux-x86_64-3.6/mpi4py\n",
      "  creating build/lib.linux-x86_64-3.6/mpi4py/futures\n",
      "  copying src/mpi4py/futures/server.py -> build/lib.linux-x86_64-3.6/mpi4py/futures\n",
      "  copying src/mpi4py/futures/_base.py -> build/lib.linux-x86_64-3.6/mpi4py/futures\n",
      "  copying src/mpi4py/futures/pool.py -> build/lib.linux-x86_64-3.6/mpi4py/futures\n",
      "  copying src/mpi4py/futures/__init__.py -> build/lib.linux-x86_64-3.6/mpi4py/futures\n",
      "  copying src/mpi4py/futures/_lib.py -> build/lib.linux-x86_64-3.6/mpi4py/futures\n",
      "  copying src/mpi4py/futures/_core.py -> build/lib.linux-x86_64-3.6/mpi4py/futures\n",
      "  copying src/mpi4py/futures/aplus.py -> build/lib.linux-x86_64-3.6/mpi4py/futures\n",
      "  copying src/mpi4py/futures/__main__.py -> build/lib.linux-x86_64-3.6/mpi4py/futures\n",
      "  creating build/lib.linux-x86_64-3.6/mpi4py/util\n",
      "  copying src/mpi4py/util/dtlib.py -> build/lib.linux-x86_64-3.6/mpi4py/util\n",
      "  copying src/mpi4py/util/__init__.py -> build/lib.linux-x86_64-3.6/mpi4py/util\n",
      "  copying src/mpi4py/util/pkl5.py -> build/lib.linux-x86_64-3.6/mpi4py/util\n",
      "  copying src/mpi4py/py.typed -> build/lib.linux-x86_64-3.6/mpi4py\n",
      "  copying src/mpi4py/__main__.pyi -> build/lib.linux-x86_64-3.6/mpi4py\n",
      "  copying src/mpi4py/run.pyi -> build/lib.linux-x86_64-3.6/mpi4py\n",
      "  copying src/mpi4py/dl.pyi -> build/lib.linux-x86_64-3.6/mpi4py\n",
      "  copying src/mpi4py/bench.pyi -> build/lib.linux-x86_64-3.6/mpi4py\n",
      "  copying src/mpi4py/MPI.pyi -> build/lib.linux-x86_64-3.6/mpi4py\n",
      "  copying src/mpi4py/__init__.pyi -> build/lib.linux-x86_64-3.6/mpi4py\n",
      "  copying src/mpi4py/libmpi.pxd -> build/lib.linux-x86_64-3.6/mpi4py\n",
      "  copying src/mpi4py/__init__.pxd -> build/lib.linux-x86_64-3.6/mpi4py\n",
      "  copying src/mpi4py/MPI.pxd -> build/lib.linux-x86_64-3.6/mpi4py\n",
      "  creating build/lib.linux-x86_64-3.6/mpi4py/include\n",
      "  creating build/lib.linux-x86_64-3.6/mpi4py/include/mpi4py\n",
      "  copying src/mpi4py/include/mpi4py/mpi4py.MPI.h -> build/lib.linux-x86_64-3.6/mpi4py/include/mpi4py\n",
      "  copying src/mpi4py/include/mpi4py/mpi4py.MPI_api.h -> build/lib.linux-x86_64-3.6/mpi4py/include/mpi4py\n",
      "  copying src/mpi4py/include/mpi4py/mpi4py.h -> build/lib.linux-x86_64-3.6/mpi4py/include/mpi4py\n",
      "  copying src/mpi4py/include/mpi4py/mpi4py.i -> build/lib.linux-x86_64-3.6/mpi4py/include/mpi4py\n",
      "  copying src/mpi4py/include/mpi4py/mpi.pxi -> build/lib.linux-x86_64-3.6/mpi4py/include/mpi4py\n",
      "  copying src/mpi4py/futures/__main__.pyi -> build/lib.linux-x86_64-3.6/mpi4py/futures\n",
      "  copying src/mpi4py/futures/server.pyi -> build/lib.linux-x86_64-3.6/mpi4py/futures\n",
      "  copying src/mpi4py/futures/pool.pyi -> build/lib.linux-x86_64-3.6/mpi4py/futures\n",
      "  copying src/mpi4py/futures/aplus.pyi -> build/lib.linux-x86_64-3.6/mpi4py/futures\n",
      "  copying src/mpi4py/futures/_lib.pyi -> build/lib.linux-x86_64-3.6/mpi4py/futures\n",
      "  copying src/mpi4py/futures/_core.pyi -> build/lib.linux-x86_64-3.6/mpi4py/futures\n",
      "  copying src/mpi4py/futures/__init__.pyi -> build/lib.linux-x86_64-3.6/mpi4py/futures\n",
      "  copying src/mpi4py/util/dtlib.pyi -> build/lib.linux-x86_64-3.6/mpi4py/util\n",
      "  copying src/mpi4py/util/pkl5.pyi -> build/lib.linux-x86_64-3.6/mpi4py/util\n",
      "  copying src/mpi4py/util/__init__.pyi -> build/lib.linux-x86_64-3.6/mpi4py/util\n",
      "  running build_clib\n",
      "  MPI configuration: [mpi] from 'mpi.cfg'\n",
      "  checking for library 'lmpe' ...\n",
      "  x86_64-linux-gnu-gcc -pthread -DNDEBUG -g -fwrapv -O2 -Wall -g -fstack-protector-strong -Wformat -Werror=format-security -Wdate-time -D_FORTIFY_SOURCE=2 -fPIC -c _configtest.c -o _configtest.o\n",
      "  x86_64-linux-gnu-gcc -pthread _configtest.o -llmpe -o _configtest\n",
      "  /usr/bin/ld: cannot find -llmpe\n",
      "  collect2: error: ld returned 1 exit status\n",
      "  failure.\n",
      "  removing: _configtest.c _configtest.o\n",
      "  building 'mpe' dylib library\n",
      "  creating build/temp.linux-x86_64-3.6\n",
      "  creating build/temp.linux-x86_64-3.6/src\n",
      "  creating build/temp.linux-x86_64-3.6/src/lib-pmpi\n",
      "  x86_64-linux-gnu-gcc -pthread -DNDEBUG -g -fwrapv -O2 -Wall -g -fstack-protector-strong -Wformat -Werror=format-security -Wdate-time -D_FORTIFY_SOURCE=2 -fPIC -c src/lib-pmpi/mpe.c -o build/temp.linux-x86_64-3.6/src/lib-pmpi/mpe.o\n",
      "  creating build/lib.linux-x86_64-3.6/mpi4py/lib-pmpi\n",
      "  x86_64-linux-gnu-gcc -pthread -shared -Wl,-O1 -Wl,-Bsymbolic-functions -Wl,-Bsymbolic-functions -Wl,-z,relro -Wl,-Bsymbolic-functions -Wl,-z,relro -g -fstack-protector-strong -Wformat -Werror=format-security -Wdate-time -D_FORTIFY_SOURCE=2 -Wl,--no-as-needed build/temp.linux-x86_64-3.6/src/lib-pmpi/mpe.o -o build/lib.linux-x86_64-3.6/mpi4py/lib-pmpi/libmpe.so\n",
      "  checking for library 'vt-mpi' ...\n",
      "  x86_64-linux-gnu-gcc -pthread -DNDEBUG -g -fwrapv -O2 -Wall -g -fstack-protector-strong -Wformat -Werror=format-security -Wdate-time -D_FORTIFY_SOURCE=2 -fPIC -c _configtest.c -o _configtest.o\n",
      "  x86_64-linux-gnu-gcc -pthread _configtest.o -lvt-mpi -o _configtest\n",
      "  /usr/bin/ld: cannot find -lvt-mpi\n",
      "  collect2: error: ld returned 1 exit status\n",
      "  failure.\n",
      "  removing: _configtest.c _configtest.o\n",
      "  checking for library 'vt.mpi' ...\n",
      "  x86_64-linux-gnu-gcc -pthread -DNDEBUG -g -fwrapv -O2 -Wall -g -fstack-protector-strong -Wformat -Werror=format-security -Wdate-time -D_FORTIFY_SOURCE=2 -fPIC -c _configtest.c -o _configtest.o\n",
      "  x86_64-linux-gnu-gcc -pthread _configtest.o -lvt.mpi -o _configtest\n",
      "  /usr/bin/ld: cannot find -lvt.mpi\n",
      "  collect2: error: ld returned 1 exit status\n",
      "  failure.\n",
      "  removing: _configtest.c _configtest.o\n",
      "  building 'vt' dylib library\n",
      "  x86_64-linux-gnu-gcc -pthread -DNDEBUG -g -fwrapv -O2 -Wall -g -fstack-protector-strong -Wformat -Werror=format-security -Wdate-time -D_FORTIFY_SOURCE=2 -fPIC -c src/lib-pmpi/vt.c -o build/temp.linux-x86_64-3.6/src/lib-pmpi/vt.o\n",
      "  x86_64-linux-gnu-gcc -pthread -shared -Wl,-O1 -Wl,-Bsymbolic-functions -Wl,-Bsymbolic-functions -Wl,-z,relro -Wl,-Bsymbolic-functions -Wl,-z,relro -g -fstack-protector-strong -Wformat -Werror=format-security -Wdate-time -D_FORTIFY_SOURCE=2 -Wl,--no-as-needed build/temp.linux-x86_64-3.6/src/lib-pmpi/vt.o -o build/lib.linux-x86_64-3.6/mpi4py/lib-pmpi/libvt.so\n",
      "  checking for library 'vt-mpi' ...\n",
      "  x86_64-linux-gnu-gcc -pthread -DNDEBUG -g -fwrapv -O2 -Wall -g -fstack-protector-strong -Wformat -Werror=format-security -Wdate-time -D_FORTIFY_SOURCE=2 -fPIC -c _configtest.c -o _configtest.o\n",
      "  x86_64-linux-gnu-gcc -pthread _configtest.o -lvt-mpi -o _configtest\n",
      "  /usr/bin/ld: cannot find -lvt-mpi\n",
      "  collect2: error: ld returned 1 exit status\n",
      "  failure.\n",
      "  removing: _configtest.c _configtest.o\n",
      "  checking for library 'vt.mpi' ...\n",
      "  x86_64-linux-gnu-gcc -pthread -DNDEBUG -g -fwrapv -O2 -Wall -g -fstack-protector-strong -Wformat -Werror=format-security -Wdate-time -D_FORTIFY_SOURCE=2 -fPIC -c _configtest.c -o _configtest.o\n",
      "  x86_64-linux-gnu-gcc -pthread _configtest.o -lvt.mpi -o _configtest\n",
      "  /usr/bin/ld: cannot find -lvt.mpi\n",
      "  collect2: error: ld returned 1 exit status\n",
      "  failure.\n",
      "  removing: _configtest.c _configtest.o\n",
      "  building 'vt-mpi' dylib library\n",
      "  x86_64-linux-gnu-gcc -pthread -DNDEBUG -g -fwrapv -O2 -Wall -g -fstack-protector-strong -Wformat -Werror=format-security -Wdate-time -D_FORTIFY_SOURCE=2 -fPIC -c src/lib-pmpi/vt-mpi.c -o build/temp.linux-x86_64-3.6/src/lib-pmpi/vt-mpi.o\n",
      "  x86_64-linux-gnu-gcc -pthread -shared -Wl,-O1 -Wl,-Bsymbolic-functions -Wl,-Bsymbolic-functions -Wl,-z,relro -Wl,-Bsymbolic-functions -Wl,-z,relro -g -fstack-protector-strong -Wformat -Werror=format-security -Wdate-time -D_FORTIFY_SOURCE=2 -Wl,--no-as-needed build/temp.linux-x86_64-3.6/src/lib-pmpi/vt-mpi.o -o build/lib.linux-x86_64-3.6/mpi4py/lib-pmpi/libvt-mpi.so\n",
      "  checking for library 'vt-hyb' ...\n",
      "  x86_64-linux-gnu-gcc -pthread -DNDEBUG -g -fwrapv -O2 -Wall -g -fstack-protector-strong -Wformat -Werror=format-security -Wdate-time -D_FORTIFY_SOURCE=2 -fPIC -c _configtest.c -o _configtest.o\n",
      "  x86_64-linux-gnu-gcc -pthread _configtest.o -lvt-hyb -o _configtest\n",
      "  /usr/bin/ld: cannot find -lvt-hyb\n",
      "  collect2: error: ld returned 1 exit status\n",
      "  failure.\n",
      "  removing: _configtest.c _configtest.o\n",
      "  checking for library 'vt.ompi' ...\n",
      "  x86_64-linux-gnu-gcc -pthread -DNDEBUG -g -fwrapv -O2 -Wall -g -fstack-protector-strong -Wformat -Werror=format-security -Wdate-time -D_FORTIFY_SOURCE=2 -fPIC -c _configtest.c -o _configtest.o\n",
      "  x86_64-linux-gnu-gcc -pthread _configtest.o -lvt.ompi -o _configtest\n",
      "  /usr/bin/ld: cannot find -lvt.ompi\n",
      "  collect2: error: ld returned 1 exit status\n",
      "  failure.\n",
      "  removing: _configtest.c _configtest.o\n",
      "  building 'vt-hyb' dylib library\n",
      "  x86_64-linux-gnu-gcc -pthread -DNDEBUG -g -fwrapv -O2 -Wall -g -fstack-protector-strong -Wformat -Werror=format-security -Wdate-time -D_FORTIFY_SOURCE=2 -fPIC -c src/lib-pmpi/vt-hyb.c -o build/temp.linux-x86_64-3.6/src/lib-pmpi/vt-hyb.o\n",
      "  x86_64-linux-gnu-gcc -pthread -shared -Wl,-O1 -Wl,-Bsymbolic-functions -Wl,-Bsymbolic-functions -Wl,-z,relro -Wl,-Bsymbolic-functions -Wl,-z,relro -g -fstack-protector-strong -Wformat -Werror=format-security -Wdate-time -D_FORTIFY_SOURCE=2 -Wl,--no-as-needed build/temp.linux-x86_64-3.6/src/lib-pmpi/vt-hyb.o -o build/lib.linux-x86_64-3.6/mpi4py/lib-pmpi/libvt-hyb.so\n",
      "  running build_ext\n",
      "  MPI configuration: [mpi] from 'mpi.cfg'\n",
      "  checking for dlopen() availability ...\n",
      "  checking for header 'dlfcn.h' ...\n",
      "  x86_64-linux-gnu-gcc -pthread -DNDEBUG -g -fwrapv -O2 -Wall -g -fstack-protector-strong -Wformat -Werror=format-security -Wdate-time -D_FORTIFY_SOURCE=2 -fPIC -I/usr/include/python3.6m -c _configtest.c -o _configtest.o\n",
      "  success!\n",
      "  removing: _configtest.c _configtest.o\n",
      "  success!\n",
      "  checking for library 'dl' ...\n",
      "  x86_64-linux-gnu-gcc -pthread -DNDEBUG -g -fwrapv -O2 -Wall -g -fstack-protector-strong -Wformat -Werror=format-security -Wdate-time -D_FORTIFY_SOURCE=2 -fPIC -I/usr/include/python3.6m -c _configtest.c -o _configtest.o\n",
      "  x86_64-linux-gnu-gcc -pthread _configtest.o -Lbuild/temp.linux-x86_64-3.6 -ldl -o _configtest\n",
      "  success!\n",
      "  removing: _configtest.c _configtest.o _configtest\n",
      "  checking for function 'dlopen' ...\n",
      "  x86_64-linux-gnu-gcc -pthread -DNDEBUG -g -fwrapv -O2 -Wall -g -fstack-protector-strong -Wformat -Werror=format-security -Wdate-time -D_FORTIFY_SOURCE=2 -fPIC -I/usr/include/python3.6m -c _configtest.c -o _configtest.o\n",
      "  x86_64-linux-gnu-gcc -pthread _configtest.o -Lbuild/temp.linux-x86_64-3.6 -ldl -o _configtest\n",
      "  success!\n",
      "  removing: _configtest.c _configtest.o _configtest\n",
      "  building 'mpi4py.dl' extension\n",
      "  x86_64-linux-gnu-gcc -pthread -DNDEBUG -g -fwrapv -O2 -Wall -g -fstack-protector-strong -Wformat -Werror=format-security -Wdate-time -D_FORTIFY_SOURCE=2 -fPIC -DHAVE_DLFCN_H=1 -DHAVE_DLOPEN=1 -I/usr/include/python3.6m -c src/dynload.c -o build/temp.linux-x86_64-3.6/src/dynload.o\n",
      "  x86_64-linux-gnu-gcc -pthread -shared -Wl,-O1 -Wl,-Bsymbolic-functions -Wl,-Bsymbolic-functions -Wl,-z,relro -Wl,-Bsymbolic-functions -Wl,-z,relro -g -fstack-protector-strong -Wformat -Werror=format-security -Wdate-time -D_FORTIFY_SOURCE=2 build/temp.linux-x86_64-3.6/src/dynload.o -Lbuild/temp.linux-x86_64-3.6 -ldl -o build/lib.linux-x86_64-3.6/mpi4py/dl.cpython-36m-x86_64-linux-gnu.so\n",
      "  checking for MPI compile and link ...\n",
      "  x86_64-linux-gnu-gcc -pthread -DNDEBUG -g -fwrapv -O2 -Wall -g -fstack-protector-strong -Wformat -Werror=format-security -Wdate-time -D_FORTIFY_SOURCE=2 -fPIC -I/usr/include/python3.6m -c _configtest.c -o _configtest.o\n",
      "  _configtest.c:2:10: fatal error: mpi.h: No such file or directory\n",
      "   #include <mpi.h>\n",
      "            ^~~~~~~\n",
      "  compilation terminated.\n",
      "  failure.\n",
      "  removing: _configtest.c _configtest.o\n",
      "  error: Cannot compile MPI programs. Check your configuration!!!\n",
      "  ----------------------------------------\u001b[0m\n",
      "\u001b[31m  ERROR: Failed building wheel for mpi4py\u001b[0m\n",
      "\u001b[?25hFailed to build mpi4py\n",
      "\u001b[31mERROR: Could not build wheels for mpi4py, which is required to install pyproject.toml-based projects\u001b[0m\n"
     ]
    }
   ],
   "source": [
    "!apt install swig cmake libopenmpi-dev zlib1g-dev\n",
    "!pip install stable-baselines[mpi]==2.10.2 box2d box2d-kengz"
   ]
  },
  {
   "cell_type": "code",
   "execution_count": 28,
   "metadata": {},
   "outputs": [
    {
     "name": "stdout",
     "output_type": "stream",
     "text": [
      "Package                  Version\n",
      "------------------------ -------------------\n",
      "absl-py                  0.15.0\n",
      "apturl                   0.5.2\n",
      "argon2-cffi              21.3.0\n",
      "argon2-cffi-bindings     21.2.0\n",
      "asn1crypto               0.24.0\n",
      "astor                    0.8.1\n",
      "astunparse               1.6.3\n",
      "async-generator          1.10\n",
      "atari-py                 0.2.9\n",
      "attrs                    21.4.0\n",
      "backcall                 0.2.0\n",
      "bleach                   4.1.0\n",
      "box2d-py                 2.3.8\n",
      "Brlapi                   0.6.6\n",
      "cached-property          1.5.2\n",
      "cachetools               4.2.4\n",
      "certifi                  2021.10.8\n",
      "cffi                     1.15.0\n",
      "chardet                  3.0.4\n",
      "charset-normalizer       2.0.10\n",
      "clang                    5.0\n",
      "click                    6.7\n",
      "cloudpickle              1.2.2\n",
      "colorama                 0.3.7\n",
      "command-not-found        0.3\n",
      "cryptography             2.1.4\n",
      "cupshelpers              1.0\n",
      "cycler                   0.11.0\n",
      "daiquiri                 1.6.1\n",
      "dataclasses              0.8\n",
      "decorator                5.1.1\n",
      "defer                    1.0.6\n",
      "defusedxml               0.7.1\n",
      "distlib                  0.3.4\n",
      "distro-info              0.18ubuntu0.18.04.1\n",
      "EasyProcess              1.1\n",
      "entrypoints              0.3\n",
      "filelock                 3.4.1\n",
      "flatbuffers              1.12\n",
      "future                   0.18.2\n",
      "gast                     0.2.2\n",
      "google-api-core          2.3.2\n",
      "google-api-python-client 2.34.0\n",
      "google-auth              1.35.0\n",
      "google-auth-httplib2     0.1.0\n",
      "google-auth-oauthlib     0.4.6\n",
      "google-pasta             0.2.0\n",
      "googleapis-common-protos 1.54.0\n",
      "GPUtil                   1.4.0\n",
      "grpcio                   1.43.0\n",
      "gym                      0.15.4\n",
      "gym-super-mario-bros     7.3.0\n",
      "h5py                     3.1.0\n",
      "httplib2                 0.20.2\n",
      "idna                     3.3\n",
      "importlib-metadata       4.8.3\n",
      "importlib-resources      5.4.0\n",
      "ipykernel                5.5.6\n",
      "ipython                  7.16.2\n",
      "ipython-genutils         0.2.0\n",
      "ipywidgets               7.6.5\n",
      "jedi                     0.17.2\n",
      "Jinja2                   3.0.3\n",
      "joblib                   1.1.0\n",
      "jsonschema               3.2.0\n",
      "jupyter                  1.0.0\n",
      "jupyter-client           7.1.0\n",
      "jupyter-console          6.4.0\n",
      "jupyter-core             4.9.1\n",
      "jupyterlab-pygments      0.1.2\n",
      "jupyterlab-widgets       1.0.2\n",
      "keras                    2.6.0\n",
      "Keras-Applications       1.0.8\n",
      "Keras-Preprocessing      1.1.2\n",
      "keyring                  10.6.0\n",
      "keyrings.alt             3.0\n",
      "kiwisolver               1.3.1\n",
      "language-selector        0.1\n",
      "launchpadlib             1.10.6\n",
      "lazr.restfulclient       0.13.5\n",
      "lazr.uri                 1.0.3\n",
      "louis                    3.5.0\n",
      "macaroonbakery           1.1.3\n",
      "Mako                     1.0.7\n",
      "Markdown                 3.3.6\n",
      "MarkupSafe               2.0.1\n",
      "matplotlib               3.3.4\n",
      "mistune                  0.8.4\n",
      "ml-monitor               0.1.0\n",
      "nbclient                 0.5.9\n",
      "nbconvert                6.0.7\n",
      "nbformat                 5.1.3\n",
      "nes-py                   8.1.8\n",
      "nest-asyncio             1.5.4\n",
      "netifaces                0.10.4\n",
      "notebook                 6.4.6\n",
      "numpy                    1.19.5\n",
      "oauth                    1.0.1\n",
      "oauth2client             4.1.3\n",
      "oauthlib                 3.1.1\n",
      "olefile                  0.45.1\n",
      "opencv-python            4.5.5.62\n",
      "opt-einsum               3.3.0\n",
      "packaging                21.3\n",
      "pandas                   1.1.5\n",
      "pandocfilters            1.5.0\n",
      "parso                    0.7.1\n",
      "pexpect                  4.2.1\n",
      "pickleshare              0.7.5\n",
      "Pillow                   8.4.0\n",
      "pip                      21.3.1\n",
      "platformdirs             2.4.0\n",
      "prometheus-client        0.12.0\n",
      "prompt-toolkit           3.0.24\n",
      "protobuf                 3.19.1\n",
      "psutil                   5.9.0\n",
      "ptyprocess               0.7.0\n",
      "pyasn1                   0.4.8\n",
      "pyasn1-modules           0.2.8\n",
      "pycairo                  1.16.2\n",
      "pycparser                2.21\n",
      "pycrypto                 2.6.1\n",
      "pycups                   1.9.73\n",
      "PyDrive                  1.3.1\n",
      "pyglet                   1.3.2\n",
      "Pygments                 2.11.2\n",
      "PyGObject                3.26.1\n",
      "pymacaroons              0.13.0\n",
      "PyNaCl                   1.1.2\n",
      "pyparsing                3.0.6\n",
      "pyRFC3339                1.0\n",
      "pyrsistent               0.18.0\n",
      "python-apt               1.6.5+ubuntu0.7\n",
      "python-dateutil          2.8.2\n",
      "python-debian            0.1.32\n",
      "pytz                     2018.3\n",
      "PyVirtualDisplay         2.2\n",
      "pyxdg                    0.25\n",
      "PyYAML                   5.4.1\n",
      "pyzmq                    22.3.0\n",
      "qtconsole                5.2.2\n",
      "QtPy                     2.0.0\n",
      "reportlab                3.4.0\n",
      "requests                 2.27.1\n",
      "requests-oauthlib        1.3.0\n",
      "requests-unixsocket      0.1.5\n",
      "roboschool               1.0.48\n",
      "rsa                      4.8\n",
      "scipy                    1.5.4\n",
      "seaborn                  0.11.2\n",
      "SecretStorage            2.3.1\n",
      "Send2Trash               1.8.0\n",
      "setuptools               59.6.0\n",
      "simplejson               3.13.2\n",
      "six                      1.15.0\n",
      "stable-baselines         2.10.2\n",
      "stable-baselines3        1.3.0\n",
      "system-service           0.3\n",
      "systemd-python           234\n",
      "tensorboard              1.15.0\n",
      "tensorboard-data-server  0.6.1\n",
      "tensorboard-plugin-wit   1.8.1\n",
      "tensorflow               1.15.2\n",
      "tensorflow-estimator     1.15.1\n",
      "termcolor                1.1.0\n",
      "terminado                0.12.1\n",
      "testpath                 0.5.0\n",
      "torch                    1.10.1+cu113\n",
      "torchaudio               0.10.1+cu113\n",
      "torchvision              0.11.2+cu113\n",
      "tornado                  6.1\n",
      "tqdm                     4.62.3\n",
      "traitlets                4.3.3\n",
      "typing-extensions        3.7.4.3\n",
      "ubuntu-advantage-tools   27.2\n",
      "ubuntu-drivers-common    0.0.0\n",
      "ufw                      0.36\n",
      "unattended-upgrades      0.1\n",
      "unrar                    0.4\n",
      "uritemplate              4.1.1\n",
      "urllib3                  1.26.8\n",
      "usb-creator              0.3.3\n",
      "virtualenv               20.13.0\n",
      "wadllib                  1.3.2\n",
      "wcwidth                  0.2.5\n",
      "webencodings             0.5.1\n",
      "Werkzeug                 2.0.2\n",
      "wheel                    0.37.1\n",
      "widgetsnbextension       3.5.2\n",
      "wrapt                    1.12.1\n",
      "xkit                     0.0.0\n",
      "xvfbwrapper              0.2.9\n",
      "zipp                     3.6.0\n",
      "zope.interface           4.3.2\n",
      "Note: you may need to restart the kernel to use updated packages.\n"
     ]
    }
   ],
   "source": [
    "pip list I get"
   ]
  },
  {
   "cell_type": "code",
   "execution_count": 1,
   "metadata": {},
   "outputs": [
    {
     "name": "stdout",
     "output_type": "stream",
     "text": [
      "WARNING:tensorflow:\n",
      "The TensorFlow contrib module will not be included in TensorFlow 2.0.\n",
      "For more information, please see:\n",
      "  * https://github.com/tensorflow/community/blob/master/rfcs/20180907-contrib-sunset.md\n",
      "  * https://github.com/tensorflow/addons\n",
      "  * https://github.com/tensorflow/io (for I/O related ops)\n",
      "If you depend on functionality not listed there, please file an issue.\n",
      "\n"
     ]
    },
    {
     "name": "stderr",
     "output_type": "stream",
     "text": [
      "/home/darias/.local/lib/python3.6/site-packages/stable_baselines/__init__.py:33: UserWarning: stable-baselines is in maintenance mode, please use [Stable-Baselines3 (SB3)](https://github.com/DLR-RM/stable-baselines3) for an up-to-date version. You can find a [migration guide](https://stable-baselines3.readthedocs.io/en/master/guide/migration.html) in SB3 documentation.\n",
      "  \"stable-baselines is in maintenance mode, please use [Stable-Baselines3 (SB3)](https://github.com/DLR-RM/stable-baselines3) for an up-to-date version. You can find a [migration guide](https://stable-baselines3.readthedocs.io/en/master/guide/migration.html) in SB3 documentation.\"\n"
     ]
    },
    {
     "data": {
      "text/plain": [
       "'2.10.2'"
      ]
     },
     "execution_count": 1,
     "metadata": {},
     "output_type": "execute_result"
    }
   ],
   "source": [
    "import stable_baselines\n",
    "stable_baselines.__version__"
   ]
  },
  {
   "cell_type": "code",
   "execution_count": 3,
   "metadata": {},
   "outputs": [
    {
     "name": "stdout",
     "output_type": "stream",
     "text": [
      "Defaulting to user installation because normal site-packages is not writeable\n",
      "Requirement already satisfied: stable-baselines in /home/darias/.local/lib/python3.6/site-packages (2.10.2)\n",
      "Requirement already satisfied: matplotlib in /home/darias/.local/lib/python3.6/site-packages (from stable-baselines) (3.3.4)\n",
      "Requirement already satisfied: opencv-python in /home/darias/.local/lib/python3.6/site-packages (from stable-baselines) (4.5.5.62)\n",
      "Requirement already satisfied: numpy in /home/darias/.local/lib/python3.6/site-packages (from stable-baselines) (1.19.5)\n",
      "Requirement already satisfied: gym[atari,classic_control]>=0.11 in /home/darias/.local/lib/python3.6/site-packages (from stable-baselines) (0.15.4)\n",
      "Requirement already satisfied: cloudpickle>=0.5.5 in /home/darias/.local/lib/python3.6/site-packages (from stable-baselines) (1.2.2)\n",
      "Requirement already satisfied: pandas in /home/darias/.local/lib/python3.6/site-packages (from stable-baselines) (1.1.5)\n",
      "Requirement already satisfied: scipy in /home/darias/.local/lib/python3.6/site-packages (from stable-baselines) (1.5.4)\n",
      "Requirement already satisfied: joblib in /home/darias/.local/lib/python3.6/site-packages (from stable-baselines) (1.1.0)\n",
      "Requirement already satisfied: six in /home/darias/.local/lib/python3.6/site-packages (from gym[atari,classic_control]>=0.11->stable-baselines) (1.15.0)\n",
      "Requirement already satisfied: pyglet<=1.3.2,>=1.2.0 in /home/darias/.local/lib/python3.6/site-packages (from gym[atari,classic_control]>=0.11->stable-baselines) (1.3.2)\n",
      "Requirement already satisfied: atari-py~=0.2.0 in /home/darias/.local/lib/python3.6/site-packages (from gym[atari,classic_control]>=0.11->stable-baselines) (0.2.9)\n",
      "Requirement already satisfied: Pillow in /home/darias/.local/lib/python3.6/site-packages (from gym[atari,classic_control]>=0.11->stable-baselines) (8.4.0)\n",
      "Requirement already satisfied: kiwisolver>=1.0.1 in /home/darias/.local/lib/python3.6/site-packages (from matplotlib->stable-baselines) (1.3.1)\n",
      "Requirement already satisfied: python-dateutil>=2.1 in /home/darias/.local/lib/python3.6/site-packages (from matplotlib->stable-baselines) (2.8.2)\n",
      "Requirement already satisfied: cycler>=0.10 in /home/darias/.local/lib/python3.6/site-packages (from matplotlib->stable-baselines) (0.11.0)\n",
      "Requirement already satisfied: pyparsing!=2.0.4,!=2.1.2,!=2.1.6,>=2.0.3 in /home/darias/.local/lib/python3.6/site-packages (from matplotlib->stable-baselines) (3.0.6)\n",
      "Requirement already satisfied: pytz>=2017.2 in /usr/lib/python3/dist-packages (from pandas->stable-baselines) (2018.3)\n",
      "Requirement already satisfied: future in /home/darias/.local/lib/python3.6/site-packages (from pyglet<=1.3.2,>=1.2.0->gym[atari,classic_control]>=0.11->stable-baselines) (0.18.2)\n",
      "Note: you may need to restart the kernel to use updated packages.\n"
     ]
    }
   ],
   "source": [
    "pip install --upgrade stable-baselines"
   ]
  },
  {
   "cell_type": "code",
   "execution_count": 1,
   "metadata": {},
   "outputs": [
    {
     "name": "stdout",
     "output_type": "stream",
     "text": [
      "Defaulting to user installation because normal site-packages is not writeable\n",
      "Collecting mpi4py\n",
      "  Using cached mpi4py-3.1.3.tar.gz (2.5 MB)\n",
      "  Installing build dependencies ... \u001b[?25ldone\n",
      "\u001b[?25h  Getting requirements to build wheel ... \u001b[?25ldone\n",
      "\u001b[?25h  Preparing metadata (pyproject.toml) ... \u001b[?25ldone\n",
      "\u001b[?25hBuilding wheels for collected packages: mpi4py\n",
      "  Building wheel for mpi4py (pyproject.toml) ... \u001b[?25lerror\n",
      "\u001b[31m  ERROR: Command errored out with exit status 1:\n",
      "   command: /usr/bin/python3 /usr/local/lib/python3.6/dist-packages/pip/_vendor/pep517/in_process/_in_process.py build_wheel /tmp/tmpvmlitv94\n",
      "       cwd: /tmp/pip-install-lgcgor7a/mpi4py_a7eb67b6668a450d91eff21dba7c579a\n",
      "  Complete output (148 lines):\n",
      "  running bdist_wheel\n",
      "  running build\n",
      "  running build_src\n",
      "  running build_py\n",
      "  creating build\n",
      "  creating build/lib.linux-x86_64-3.6\n",
      "  creating build/lib.linux-x86_64-3.6/mpi4py\n",
      "  copying src/mpi4py/run.py -> build/lib.linux-x86_64-3.6/mpi4py\n",
      "  copying src/mpi4py/__init__.py -> build/lib.linux-x86_64-3.6/mpi4py\n",
      "  copying src/mpi4py/bench.py -> build/lib.linux-x86_64-3.6/mpi4py\n",
      "  copying src/mpi4py/__main__.py -> build/lib.linux-x86_64-3.6/mpi4py\n",
      "  creating build/lib.linux-x86_64-3.6/mpi4py/futures\n",
      "  copying src/mpi4py/futures/server.py -> build/lib.linux-x86_64-3.6/mpi4py/futures\n",
      "  copying src/mpi4py/futures/_base.py -> build/lib.linux-x86_64-3.6/mpi4py/futures\n",
      "  copying src/mpi4py/futures/pool.py -> build/lib.linux-x86_64-3.6/mpi4py/futures\n",
      "  copying src/mpi4py/futures/__init__.py -> build/lib.linux-x86_64-3.6/mpi4py/futures\n",
      "  copying src/mpi4py/futures/_lib.py -> build/lib.linux-x86_64-3.6/mpi4py/futures\n",
      "  copying src/mpi4py/futures/_core.py -> build/lib.linux-x86_64-3.6/mpi4py/futures\n",
      "  copying src/mpi4py/futures/aplus.py -> build/lib.linux-x86_64-3.6/mpi4py/futures\n",
      "  copying src/mpi4py/futures/__main__.py -> build/lib.linux-x86_64-3.6/mpi4py/futures\n",
      "  creating build/lib.linux-x86_64-3.6/mpi4py/util\n",
      "  copying src/mpi4py/util/dtlib.py -> build/lib.linux-x86_64-3.6/mpi4py/util\n",
      "  copying src/mpi4py/util/__init__.py -> build/lib.linux-x86_64-3.6/mpi4py/util\n",
      "  copying src/mpi4py/util/pkl5.py -> build/lib.linux-x86_64-3.6/mpi4py/util\n",
      "  copying src/mpi4py/py.typed -> build/lib.linux-x86_64-3.6/mpi4py\n",
      "  copying src/mpi4py/__main__.pyi -> build/lib.linux-x86_64-3.6/mpi4py\n",
      "  copying src/mpi4py/run.pyi -> build/lib.linux-x86_64-3.6/mpi4py\n",
      "  copying src/mpi4py/dl.pyi -> build/lib.linux-x86_64-3.6/mpi4py\n",
      "  copying src/mpi4py/bench.pyi -> build/lib.linux-x86_64-3.6/mpi4py\n",
      "  copying src/mpi4py/MPI.pyi -> build/lib.linux-x86_64-3.6/mpi4py\n",
      "  copying src/mpi4py/__init__.pyi -> build/lib.linux-x86_64-3.6/mpi4py\n",
      "  copying src/mpi4py/libmpi.pxd -> build/lib.linux-x86_64-3.6/mpi4py\n",
      "  copying src/mpi4py/__init__.pxd -> build/lib.linux-x86_64-3.6/mpi4py\n",
      "  copying src/mpi4py/MPI.pxd -> build/lib.linux-x86_64-3.6/mpi4py\n",
      "  creating build/lib.linux-x86_64-3.6/mpi4py/include\n",
      "  creating build/lib.linux-x86_64-3.6/mpi4py/include/mpi4py\n",
      "  copying src/mpi4py/include/mpi4py/mpi4py.MPI.h -> build/lib.linux-x86_64-3.6/mpi4py/include/mpi4py\n",
      "  copying src/mpi4py/include/mpi4py/mpi4py.MPI_api.h -> build/lib.linux-x86_64-3.6/mpi4py/include/mpi4py\n",
      "  copying src/mpi4py/include/mpi4py/mpi4py.h -> build/lib.linux-x86_64-3.6/mpi4py/include/mpi4py\n",
      "  copying src/mpi4py/include/mpi4py/mpi4py.i -> build/lib.linux-x86_64-3.6/mpi4py/include/mpi4py\n",
      "  copying src/mpi4py/include/mpi4py/mpi.pxi -> build/lib.linux-x86_64-3.6/mpi4py/include/mpi4py\n",
      "  copying src/mpi4py/futures/__main__.pyi -> build/lib.linux-x86_64-3.6/mpi4py/futures\n",
      "  copying src/mpi4py/futures/server.pyi -> build/lib.linux-x86_64-3.6/mpi4py/futures\n",
      "  copying src/mpi4py/futures/pool.pyi -> build/lib.linux-x86_64-3.6/mpi4py/futures\n",
      "  copying src/mpi4py/futures/aplus.pyi -> build/lib.linux-x86_64-3.6/mpi4py/futures\n",
      "  copying src/mpi4py/futures/_lib.pyi -> build/lib.linux-x86_64-3.6/mpi4py/futures\n",
      "  copying src/mpi4py/futures/_core.pyi -> build/lib.linux-x86_64-3.6/mpi4py/futures\n",
      "  copying src/mpi4py/futures/__init__.pyi -> build/lib.linux-x86_64-3.6/mpi4py/futures\n",
      "  copying src/mpi4py/util/dtlib.pyi -> build/lib.linux-x86_64-3.6/mpi4py/util\n",
      "  copying src/mpi4py/util/pkl5.pyi -> build/lib.linux-x86_64-3.6/mpi4py/util\n",
      "  copying src/mpi4py/util/__init__.pyi -> build/lib.linux-x86_64-3.6/mpi4py/util\n",
      "  running build_clib\n",
      "  MPI configuration: [mpi] from 'mpi.cfg'\n",
      "  checking for library 'lmpe' ...\n",
      "  x86_64-linux-gnu-gcc -pthread -DNDEBUG -g -fwrapv -O2 -Wall -g -fstack-protector-strong -Wformat -Werror=format-security -Wdate-time -D_FORTIFY_SOURCE=2 -fPIC -c _configtest.c -o _configtest.o\n",
      "  x86_64-linux-gnu-gcc -pthread _configtest.o -llmpe -o _configtest\n",
      "  /usr/bin/ld: cannot find -llmpe\n",
      "  collect2: error: ld returned 1 exit status\n",
      "  failure.\n",
      "  removing: _configtest.c _configtest.o\n",
      "  building 'mpe' dylib library\n",
      "  creating build/temp.linux-x86_64-3.6\n",
      "  creating build/temp.linux-x86_64-3.6/src\n",
      "  creating build/temp.linux-x86_64-3.6/src/lib-pmpi\n",
      "  x86_64-linux-gnu-gcc -pthread -DNDEBUG -g -fwrapv -O2 -Wall -g -fstack-protector-strong -Wformat -Werror=format-security -Wdate-time -D_FORTIFY_SOURCE=2 -fPIC -c src/lib-pmpi/mpe.c -o build/temp.linux-x86_64-3.6/src/lib-pmpi/mpe.o\n",
      "  creating build/lib.linux-x86_64-3.6/mpi4py/lib-pmpi\n",
      "  x86_64-linux-gnu-gcc -pthread -shared -Wl,-O1 -Wl,-Bsymbolic-functions -Wl,-Bsymbolic-functions -Wl,-z,relro -Wl,-Bsymbolic-functions -Wl,-z,relro -g -fstack-protector-strong -Wformat -Werror=format-security -Wdate-time -D_FORTIFY_SOURCE=2 -Wl,--no-as-needed build/temp.linux-x86_64-3.6/src/lib-pmpi/mpe.o -o build/lib.linux-x86_64-3.6/mpi4py/lib-pmpi/libmpe.so\n",
      "  checking for library 'vt-mpi' ...\n",
      "  x86_64-linux-gnu-gcc -pthread -DNDEBUG -g -fwrapv -O2 -Wall -g -fstack-protector-strong -Wformat -Werror=format-security -Wdate-time -D_FORTIFY_SOURCE=2 -fPIC -c _configtest.c -o _configtest.o\n",
      "  x86_64-linux-gnu-gcc -pthread _configtest.o -lvt-mpi -o _configtest\n",
      "  /usr/bin/ld: cannot find -lvt-mpi\n",
      "  collect2: error: ld returned 1 exit status\n",
      "  failure.\n",
      "  removing: _configtest.c _configtest.o\n",
      "  checking for library 'vt.mpi' ...\n",
      "  x86_64-linux-gnu-gcc -pthread -DNDEBUG -g -fwrapv -O2 -Wall -g -fstack-protector-strong -Wformat -Werror=format-security -Wdate-time -D_FORTIFY_SOURCE=2 -fPIC -c _configtest.c -o _configtest.o\n",
      "  x86_64-linux-gnu-gcc -pthread _configtest.o -lvt.mpi -o _configtest\n",
      "  /usr/bin/ld: cannot find -lvt.mpi\n",
      "  collect2: error: ld returned 1 exit status\n",
      "  failure.\n",
      "  removing: _configtest.c _configtest.o\n",
      "  building 'vt' dylib library\n",
      "  x86_64-linux-gnu-gcc -pthread -DNDEBUG -g -fwrapv -O2 -Wall -g -fstack-protector-strong -Wformat -Werror=format-security -Wdate-time -D_FORTIFY_SOURCE=2 -fPIC -c src/lib-pmpi/vt.c -o build/temp.linux-x86_64-3.6/src/lib-pmpi/vt.o\n",
      "  x86_64-linux-gnu-gcc -pthread -shared -Wl,-O1 -Wl,-Bsymbolic-functions -Wl,-Bsymbolic-functions -Wl,-z,relro -Wl,-Bsymbolic-functions -Wl,-z,relro -g -fstack-protector-strong -Wformat -Werror=format-security -Wdate-time -D_FORTIFY_SOURCE=2 -Wl,--no-as-needed build/temp.linux-x86_64-3.6/src/lib-pmpi/vt.o -o build/lib.linux-x86_64-3.6/mpi4py/lib-pmpi/libvt.so\n",
      "  checking for library 'vt-mpi' ...\n",
      "  x86_64-linux-gnu-gcc -pthread -DNDEBUG -g -fwrapv -O2 -Wall -g -fstack-protector-strong -Wformat -Werror=format-security -Wdate-time -D_FORTIFY_SOURCE=2 -fPIC -c _configtest.c -o _configtest.o\n",
      "  x86_64-linux-gnu-gcc -pthread _configtest.o -lvt-mpi -o _configtest\n",
      "  /usr/bin/ld: cannot find -lvt-mpi\n",
      "  collect2: error: ld returned 1 exit status\n",
      "  failure.\n",
      "  removing: _configtest.c _configtest.o\n",
      "  checking for library 'vt.mpi' ...\n",
      "  x86_64-linux-gnu-gcc -pthread -DNDEBUG -g -fwrapv -O2 -Wall -g -fstack-protector-strong -Wformat -Werror=format-security -Wdate-time -D_FORTIFY_SOURCE=2 -fPIC -c _configtest.c -o _configtest.o\n",
      "  x86_64-linux-gnu-gcc -pthread _configtest.o -lvt.mpi -o _configtest\n",
      "  /usr/bin/ld: cannot find -lvt.mpi\n",
      "  collect2: error: ld returned 1 exit status\n",
      "  failure.\n",
      "  removing: _configtest.c _configtest.o\n",
      "  building 'vt-mpi' dylib library\n",
      "  x86_64-linux-gnu-gcc -pthread -DNDEBUG -g -fwrapv -O2 -Wall -g -fstack-protector-strong -Wformat -Werror=format-security -Wdate-time -D_FORTIFY_SOURCE=2 -fPIC -c src/lib-pmpi/vt-mpi.c -o build/temp.linux-x86_64-3.6/src/lib-pmpi/vt-mpi.o\n",
      "  x86_64-linux-gnu-gcc -pthread -shared -Wl,-O1 -Wl,-Bsymbolic-functions -Wl,-Bsymbolic-functions -Wl,-z,relro -Wl,-Bsymbolic-functions -Wl,-z,relro -g -fstack-protector-strong -Wformat -Werror=format-security -Wdate-time -D_FORTIFY_SOURCE=2 -Wl,--no-as-needed build/temp.linux-x86_64-3.6/src/lib-pmpi/vt-mpi.o -o build/lib.linux-x86_64-3.6/mpi4py/lib-pmpi/libvt-mpi.so\n",
      "  checking for library 'vt-hyb' ...\n",
      "  x86_64-linux-gnu-gcc -pthread -DNDEBUG -g -fwrapv -O2 -Wall -g -fstack-protector-strong -Wformat -Werror=format-security -Wdate-time -D_FORTIFY_SOURCE=2 -fPIC -c _configtest.c -o _configtest.o\n",
      "  x86_64-linux-gnu-gcc -pthread _configtest.o -lvt-hyb -o _configtest\n",
      "  /usr/bin/ld: cannot find -lvt-hyb\n",
      "  collect2: error: ld returned 1 exit status\n",
      "  failure.\n",
      "  removing: _configtest.c _configtest.o\n",
      "  checking for library 'vt.ompi' ...\n",
      "  x86_64-linux-gnu-gcc -pthread -DNDEBUG -g -fwrapv -O2 -Wall -g -fstack-protector-strong -Wformat -Werror=format-security -Wdate-time -D_FORTIFY_SOURCE=2 -fPIC -c _configtest.c -o _configtest.o\n",
      "  x86_64-linux-gnu-gcc -pthread _configtest.o -lvt.ompi -o _configtest\n",
      "  /usr/bin/ld: cannot find -lvt.ompi\n",
      "  collect2: error: ld returned 1 exit status\n",
      "  failure.\n",
      "  removing: _configtest.c _configtest.o\n",
      "  building 'vt-hyb' dylib library\n",
      "  x86_64-linux-gnu-gcc -pthread -DNDEBUG -g -fwrapv -O2 -Wall -g -fstack-protector-strong -Wformat -Werror=format-security -Wdate-time -D_FORTIFY_SOURCE=2 -fPIC -c src/lib-pmpi/vt-hyb.c -o build/temp.linux-x86_64-3.6/src/lib-pmpi/vt-hyb.o\n",
      "  x86_64-linux-gnu-gcc -pthread -shared -Wl,-O1 -Wl,-Bsymbolic-functions -Wl,-Bsymbolic-functions -Wl,-z,relro -Wl,-Bsymbolic-functions -Wl,-z,relro -g -fstack-protector-strong -Wformat -Werror=format-security -Wdate-time -D_FORTIFY_SOURCE=2 -Wl,--no-as-needed build/temp.linux-x86_64-3.6/src/lib-pmpi/vt-hyb.o -o build/lib.linux-x86_64-3.6/mpi4py/lib-pmpi/libvt-hyb.so\n",
      "  running build_ext\n",
      "  MPI configuration: [mpi] from 'mpi.cfg'\n",
      "  checking for dlopen() availability ...\n",
      "  checking for header 'dlfcn.h' ...\n",
      "  x86_64-linux-gnu-gcc -pthread -DNDEBUG -g -fwrapv -O2 -Wall -g -fstack-protector-strong -Wformat -Werror=format-security -Wdate-time -D_FORTIFY_SOURCE=2 -fPIC -I/usr/include/python3.6m -c _configtest.c -o _configtest.o\n",
      "  success!\n",
      "  removing: _configtest.c _configtest.o\n",
      "  success!\n",
      "  checking for library 'dl' ...\n",
      "  x86_64-linux-gnu-gcc -pthread -DNDEBUG -g -fwrapv -O2 -Wall -g -fstack-protector-strong -Wformat -Werror=format-security -Wdate-time -D_FORTIFY_SOURCE=2 -fPIC -I/usr/include/python3.6m -c _configtest.c -o _configtest.o\n",
      "  x86_64-linux-gnu-gcc -pthread _configtest.o -Lbuild/temp.linux-x86_64-3.6 -ldl -o _configtest\n",
      "  success!\n",
      "  removing: _configtest.c _configtest.o _configtest\n",
      "  checking for function 'dlopen' ...\n",
      "  x86_64-linux-gnu-gcc -pthread -DNDEBUG -g -fwrapv -O2 -Wall -g -fstack-protector-strong -Wformat -Werror=format-security -Wdate-time -D_FORTIFY_SOURCE=2 -fPIC -I/usr/include/python3.6m -c _configtest.c -o _configtest.o\n",
      "  x86_64-linux-gnu-gcc -pthread _configtest.o -Lbuild/temp.linux-x86_64-3.6 -ldl -o _configtest\n",
      "  success!\n",
      "  removing: _configtest.c _configtest.o _configtest\n",
      "  building 'mpi4py.dl' extension\n",
      "  x86_64-linux-gnu-gcc -pthread -DNDEBUG -g -fwrapv -O2 -Wall -g -fstack-protector-strong -Wformat -Werror=format-security -Wdate-time -D_FORTIFY_SOURCE=2 -fPIC -DHAVE_DLFCN_H=1 -DHAVE_DLOPEN=1 -I/usr/include/python3.6m -c src/dynload.c -o build/temp.linux-x86_64-3.6/src/dynload.o\n",
      "  x86_64-linux-gnu-gcc -pthread -shared -Wl,-O1 -Wl,-Bsymbolic-functions -Wl,-Bsymbolic-functions -Wl,-z,relro -Wl,-Bsymbolic-functions -Wl,-z,relro -g -fstack-protector-strong -Wformat -Werror=format-security -Wdate-time -D_FORTIFY_SOURCE=2 build/temp.linux-x86_64-3.6/src/dynload.o -Lbuild/temp.linux-x86_64-3.6 -ldl -o build/lib.linux-x86_64-3.6/mpi4py/dl.cpython-36m-x86_64-linux-gnu.so\n",
      "  checking for MPI compile and link ...\n",
      "  x86_64-linux-gnu-gcc -pthread -DNDEBUG -g -fwrapv -O2 -Wall -g -fstack-protector-strong -Wformat -Werror=format-security -Wdate-time -D_FORTIFY_SOURCE=2 -fPIC -I/usr/include/python3.6m -c _configtest.c -o _configtest.o\n",
      "  _configtest.c:2:10: fatal error: mpi.h: No such file or directory\n",
      "   #include <mpi.h>\n",
      "            ^~~~~~~\n",
      "  compilation terminated.\n",
      "  failure.\n",
      "  removing: _configtest.c _configtest.o\n",
      "  error: Cannot compile MPI programs. Check your configuration!!!\n",
      "  ----------------------------------------\u001b[0m\n",
      "\u001b[31m  ERROR: Failed building wheel for mpi4py\u001b[0m\n",
      "\u001b[?25hFailed to build mpi4py\n",
      "\u001b[31mERROR: Could not build wheels for mpi4py, which is required to install pyproject.toml-based projects\u001b[0m\n"
     ]
    },
    {
     "name": "stdout",
     "output_type": "stream",
     "text": [
      "Note: you may need to restart the kernel to use updated packages.\n"
     ]
    }
   ],
   "source": [
    "pip install mpi4py"
   ]
  },
  {
   "cell_type": "code",
   "execution_count": 3,
   "metadata": {},
   "outputs": [],
   "source": [
    "import os\n",
    "\n",
    "import gym\n",
    "import numpy as np\n",
    "import matplotlib.pyplot as plt\n",
    "\n",
    "from stable_baselines import TD3\n",
    "#from stable_baselines.ddpg.policies import LnMlpPolicy\n",
    "from stable_baselines.bench import Monitor\n",
    "from stable_baselines.results_plotter import load_results, ts2xy\n",
    "from stable_baselines.common.noise import AdaptiveParamNoiseSpec, NormalActionNoise\n",
    "from stable_baselines.common.callbacks import BaseCallback"
   ]
  },
  {
   "cell_type": "markdown",
   "metadata": {},
   "source": [
    "### Define a Callback Function"
   ]
  },
  {
   "cell_type": "code",
   "execution_count": 4,
   "metadata": {},
   "outputs": [],
   "source": [
    "class SaveOnBestTrainingRewardCallback(BaseCallback):\n",
    "    \"\"\"\n",
    "    Callback for saving a model (the check is done every ``check_freq`` steps)\n",
    "    based on the training reward (in practice, we recommend using ``EvalCallback``).\n",
    "\n",
    "    :param check_freq: (int)\n",
    "    :param log_dir: (str) Path to the folder where the model will be saved.\n",
    "      It must contains the file created by the ``Monitor`` wrapper.\n",
    "    :param verbose: (int)\n",
    "    \"\"\"\n",
    "    def __init__(self, check_freq: int, log_dir: str, verbose=1):\n",
    "        super(SaveOnBestTrainingRewardCallback, self).__init__(verbose)\n",
    "        self.check_freq = check_freq\n",
    "        self.log_dir = log_dir\n",
    "        self.save_path = os.path.join(log_dir, 'best_model')\n",
    "        self.best_mean_reward = -np.inf\n",
    "\n",
    "    def _init_callback(self) -> None:\n",
    "        # Create folder if needed\n",
    "        if self.save_path is not None:\n",
    "            os.makedirs(self.save_path, exist_ok=True)\n",
    "\n",
    "    def _on_step(self) -> bool:\n",
    "        if self.n_calls % self.check_freq == 0:\n",
    "\n",
    "            # Retrieve training reward\n",
    "            x, y = ts2xy(load_results(self.log_dir), 'timesteps')\n",
    "            if len(x) > 0:\n",
    "                # Mean training reward over the last 100 episodes\n",
    "                mean_reward = np.mean(y[-100:])\n",
    "                if self.verbose > 0:\n",
    "                    print(\"Num timesteps: {}\".format(self.num_timesteps))\n",
    "                    print(\"Best mean reward: {:.2f} - Last mean reward per episode: {:.2f}\".format(self.best_mean_reward, mean_reward))\n",
    "\n",
    "            # New best model, you could save the agent here\n",
    "            if mean_reward > self.best_mean_reward:\n",
    "                self.best_mean_reward = mean_reward\n",
    "                # Example for saving best model\n",
    "                if self.verbose > 0:\n",
    "                    print(\"Saving new best model to {}\".format(self.save_path))\n",
    "                self.model.save(self.save_path)\n",
    "\n",
    "        return True"
   ]
  },
  {
   "cell_type": "markdown",
   "metadata": {},
   "source": [
    "### Create and wrap the environment"
   ]
  },
  {
   "cell_type": "code",
   "execution_count": 5,
   "metadata": {},
   "outputs": [],
   "source": [
    "# Create log dir\n",
    "log_dir = \"/tmp/gym/\"\n",
    "os.makedirs(log_dir, exist_ok=True)\n",
    "\n",
    "# Create and wrap the environment\n",
    "#env = gym.make('LunarLanderContinuous-v2')\n",
    "# Logs will be saved in log_dir/monitor.csv\n",
    "#env = Monitor(env, log_dir)"
   ]
  },
  {
   "cell_type": "code",
   "execution_count": 6,
   "metadata": {},
   "outputs": [],
   "source": [
    "callback = SaveOnBestTrainingRewardCallback(check_freq=1000, log_dir=log_dir)"
   ]
  },
  {
   "cell_type": "markdown",
   "metadata": {},
   "source": [
    "# 3. Train Model"
   ]
  },
  {
   "cell_type": "code",
   "execution_count": 7,
   "metadata": {},
   "outputs": [],
   "source": [
    "log_path = os.path.join('Training', 'Logs')"
   ]
  },
  {
   "cell_type": "code",
   "execution_count": 8,
   "metadata": {},
   "outputs": [
    {
     "ename": "NameError",
     "evalue": "name 'PPO' is not defined",
     "output_type": "error",
     "traceback": [
      "\u001b[0;31m---------------------------------------------------------------------------\u001b[0m",
      "\u001b[0;31mNameError\u001b[0m                                 Traceback (most recent call last)",
      "\u001b[0;32m<ipython-input-8-10274f854c0a>\u001b[0m in \u001b[0;36m<module>\u001b[0;34m\u001b[0m\n\u001b[0;32m----> 1\u001b[0;31m \u001b[0mmodel\u001b[0m \u001b[0;34m=\u001b[0m \u001b[0mPPO\u001b[0m\u001b[0;34m(\u001b[0m\u001b[0;34m\"CnnPolicy\"\u001b[0m\u001b[0;34m,\u001b[0m \u001b[0menv\u001b[0m\u001b[0;34m,\u001b[0m \u001b[0mverbose\u001b[0m\u001b[0;34m=\u001b[0m\u001b[0;36m1\u001b[0m\u001b[0;34m,\u001b[0m \u001b[0mtensorboard_log\u001b[0m\u001b[0;34m=\u001b[0m\u001b[0mlog_path\u001b[0m\u001b[0;34m)\u001b[0m\u001b[0;34m\u001b[0m\u001b[0;34m\u001b[0m\u001b[0m\n\u001b[0m",
      "\u001b[0;31mNameError\u001b[0m: name 'PPO' is not defined"
     ]
    }
   ],
   "source": [
    "model = PPO(\"CnnPolicy\", env, verbose=1, tensorboard_log=log_path)"
   ]
  },
  {
   "cell_type": "code",
   "execution_count": 47,
   "metadata": {
    "scrolled": true
   },
   "outputs": [
    {
     "name": "stdout",
     "output_type": "stream",
     "text": [
      "Track generation: 1247..1563 -> 316-tiles track\n",
      "Logging to Training/Logs/PPO_6\n",
      "Track generation: 1072..1351 -> 279-tiles track\n"
     ]
    },
    {
     "ename": "NameError",
     "evalue": "name 'ts2xy' is not defined",
     "output_type": "error",
     "traceback": [
      "\u001b[0;31m---------------------------------------------------------------------------\u001b[0m",
      "\u001b[0;31mNameError\u001b[0m                                 Traceback (most recent call last)",
      "\u001b[0;32m<ipython-input-47-307bcf16c866>\u001b[0m in \u001b[0;36m<module>\u001b[0;34m\u001b[0m\n\u001b[0;32m----> 1\u001b[0;31m \u001b[0mmodel\u001b[0m\u001b[0;34m.\u001b[0m\u001b[0mlearn\u001b[0m\u001b[0;34m(\u001b[0m\u001b[0mtotal_timesteps\u001b[0m\u001b[0;34m=\u001b[0m\u001b[0;36m40000\u001b[0m\u001b[0;34m,\u001b[0m\u001b[0mcallback\u001b[0m\u001b[0;34m=\u001b[0m\u001b[0mcallback\u001b[0m\u001b[0;34m)\u001b[0m\u001b[0;34m\u001b[0m\u001b[0;34m\u001b[0m\u001b[0m\n\u001b[0m",
      "\u001b[0;32m~/.local/lib/python3.6/site-packages/stable_baselines3/ppo/ppo.py\u001b[0m in \u001b[0;36mlearn\u001b[0;34m(self, total_timesteps, callback, log_interval, eval_env, eval_freq, n_eval_episodes, tb_log_name, eval_log_path, reset_num_timesteps)\u001b[0m\n\u001b[1;32m    306\u001b[0m             \u001b[0mtb_log_name\u001b[0m\u001b[0;34m=\u001b[0m\u001b[0mtb_log_name\u001b[0m\u001b[0;34m,\u001b[0m\u001b[0;34m\u001b[0m\u001b[0;34m\u001b[0m\u001b[0m\n\u001b[1;32m    307\u001b[0m             \u001b[0meval_log_path\u001b[0m\u001b[0;34m=\u001b[0m\u001b[0meval_log_path\u001b[0m\u001b[0;34m,\u001b[0m\u001b[0;34m\u001b[0m\u001b[0;34m\u001b[0m\u001b[0m\n\u001b[0;32m--> 308\u001b[0;31m             \u001b[0mreset_num_timesteps\u001b[0m\u001b[0;34m=\u001b[0m\u001b[0mreset_num_timesteps\u001b[0m\u001b[0;34m,\u001b[0m\u001b[0;34m\u001b[0m\u001b[0;34m\u001b[0m\u001b[0m\n\u001b[0m\u001b[1;32m    309\u001b[0m         )\n",
      "\u001b[0;32m~/.local/lib/python3.6/site-packages/stable_baselines3/common/on_policy_algorithm.py\u001b[0m in \u001b[0;36mlearn\u001b[0;34m(self, total_timesteps, callback, log_interval, eval_env, eval_freq, n_eval_episodes, tb_log_name, eval_log_path, reset_num_timesteps)\u001b[0m\n\u001b[1;32m    235\u001b[0m         \u001b[0;32mwhile\u001b[0m \u001b[0mself\u001b[0m\u001b[0;34m.\u001b[0m\u001b[0mnum_timesteps\u001b[0m \u001b[0;34m<\u001b[0m \u001b[0mtotal_timesteps\u001b[0m\u001b[0;34m:\u001b[0m\u001b[0;34m\u001b[0m\u001b[0;34m\u001b[0m\u001b[0m\n\u001b[1;32m    236\u001b[0m \u001b[0;34m\u001b[0m\u001b[0m\n\u001b[0;32m--> 237\u001b[0;31m             \u001b[0mcontinue_training\u001b[0m \u001b[0;34m=\u001b[0m \u001b[0mself\u001b[0m\u001b[0;34m.\u001b[0m\u001b[0mcollect_rollouts\u001b[0m\u001b[0;34m(\u001b[0m\u001b[0mself\u001b[0m\u001b[0;34m.\u001b[0m\u001b[0menv\u001b[0m\u001b[0;34m,\u001b[0m \u001b[0mcallback\u001b[0m\u001b[0;34m,\u001b[0m \u001b[0mself\u001b[0m\u001b[0;34m.\u001b[0m\u001b[0mrollout_buffer\u001b[0m\u001b[0;34m,\u001b[0m \u001b[0mn_rollout_steps\u001b[0m\u001b[0;34m=\u001b[0m\u001b[0mself\u001b[0m\u001b[0;34m.\u001b[0m\u001b[0mn_steps\u001b[0m\u001b[0;34m)\u001b[0m\u001b[0;34m\u001b[0m\u001b[0;34m\u001b[0m\u001b[0m\n\u001b[0m\u001b[1;32m    238\u001b[0m \u001b[0;34m\u001b[0m\u001b[0m\n\u001b[1;32m    239\u001b[0m             \u001b[0;32mif\u001b[0m \u001b[0mcontinue_training\u001b[0m \u001b[0;32mis\u001b[0m \u001b[0;32mFalse\u001b[0m\u001b[0;34m:\u001b[0m\u001b[0;34m\u001b[0m\u001b[0;34m\u001b[0m\u001b[0m\n",
      "\u001b[0;32m~/.local/lib/python3.6/site-packages/stable_baselines3/common/on_policy_algorithm.py\u001b[0m in \u001b[0;36mcollect_rollouts\u001b[0;34m(self, env, callback, rollout_buffer, n_rollout_steps)\u001b[0m\n\u001b[1;32m    182\u001b[0m             \u001b[0;31m# Give access to local variables\u001b[0m\u001b[0;34m\u001b[0m\u001b[0;34m\u001b[0m\u001b[0;34m\u001b[0m\u001b[0m\n\u001b[1;32m    183\u001b[0m             \u001b[0mcallback\u001b[0m\u001b[0;34m.\u001b[0m\u001b[0mupdate_locals\u001b[0m\u001b[0;34m(\u001b[0m\u001b[0mlocals\u001b[0m\u001b[0;34m(\u001b[0m\u001b[0;34m)\u001b[0m\u001b[0;34m)\u001b[0m\u001b[0;34m\u001b[0m\u001b[0;34m\u001b[0m\u001b[0m\n\u001b[0;32m--> 184\u001b[0;31m             \u001b[0;32mif\u001b[0m \u001b[0mcallback\u001b[0m\u001b[0;34m.\u001b[0m\u001b[0mon_step\u001b[0m\u001b[0;34m(\u001b[0m\u001b[0;34m)\u001b[0m \u001b[0;32mis\u001b[0m \u001b[0;32mFalse\u001b[0m\u001b[0;34m:\u001b[0m\u001b[0;34m\u001b[0m\u001b[0;34m\u001b[0m\u001b[0m\n\u001b[0m\u001b[1;32m    185\u001b[0m                 \u001b[0;32mreturn\u001b[0m \u001b[0;32mFalse\u001b[0m\u001b[0;34m\u001b[0m\u001b[0;34m\u001b[0m\u001b[0m\n\u001b[1;32m    186\u001b[0m \u001b[0;34m\u001b[0m\u001b[0m\n",
      "\u001b[0;32m~/.local/lib/python3.6/site-packages/stable_baselines3/common/callbacks.py\u001b[0m in \u001b[0;36mon_step\u001b[0;34m(self)\u001b[0m\n\u001b[1;32m     86\u001b[0m         \u001b[0mself\u001b[0m\u001b[0;34m.\u001b[0m\u001b[0mnum_timesteps\u001b[0m \u001b[0;34m=\u001b[0m \u001b[0mself\u001b[0m\u001b[0;34m.\u001b[0m\u001b[0mmodel\u001b[0m\u001b[0;34m.\u001b[0m\u001b[0mnum_timesteps\u001b[0m\u001b[0;34m\u001b[0m\u001b[0;34m\u001b[0m\u001b[0m\n\u001b[1;32m     87\u001b[0m \u001b[0;34m\u001b[0m\u001b[0m\n\u001b[0;32m---> 88\u001b[0;31m         \u001b[0;32mreturn\u001b[0m \u001b[0mself\u001b[0m\u001b[0;34m.\u001b[0m\u001b[0m_on_step\u001b[0m\u001b[0;34m(\u001b[0m\u001b[0;34m)\u001b[0m\u001b[0;34m\u001b[0m\u001b[0;34m\u001b[0m\u001b[0m\n\u001b[0m\u001b[1;32m     89\u001b[0m \u001b[0;34m\u001b[0m\u001b[0m\n\u001b[1;32m     90\u001b[0m     \u001b[0;32mdef\u001b[0m \u001b[0mon_training_end\u001b[0m\u001b[0;34m(\u001b[0m\u001b[0mself\u001b[0m\u001b[0;34m)\u001b[0m \u001b[0;34m->\u001b[0m \u001b[0;32mNone\u001b[0m\u001b[0;34m:\u001b[0m\u001b[0;34m\u001b[0m\u001b[0;34m\u001b[0m\u001b[0m\n",
      "\u001b[0;32m<ipython-input-42-f6a1bac5e77a>\u001b[0m in \u001b[0;36m_on_step\u001b[0;34m(self)\u001b[0m\n\u001b[1;32m     25\u001b[0m \u001b[0;34m\u001b[0m\u001b[0m\n\u001b[1;32m     26\u001b[0m             \u001b[0;31m# Retrieve training reward\u001b[0m\u001b[0;34m\u001b[0m\u001b[0;34m\u001b[0m\u001b[0;34m\u001b[0m\u001b[0m\n\u001b[0;32m---> 27\u001b[0;31m             \u001b[0mx\u001b[0m\u001b[0;34m,\u001b[0m \u001b[0my\u001b[0m \u001b[0;34m=\u001b[0m \u001b[0mts2xy\u001b[0m\u001b[0;34m(\u001b[0m\u001b[0mload_results\u001b[0m\u001b[0;34m(\u001b[0m\u001b[0mself\u001b[0m\u001b[0;34m.\u001b[0m\u001b[0mlog_dir\u001b[0m\u001b[0;34m)\u001b[0m\u001b[0;34m,\u001b[0m \u001b[0;34m'timesteps'\u001b[0m\u001b[0;34m)\u001b[0m\u001b[0;34m\u001b[0m\u001b[0;34m\u001b[0m\u001b[0m\n\u001b[0m\u001b[1;32m     28\u001b[0m             \u001b[0;32mif\u001b[0m \u001b[0mlen\u001b[0m\u001b[0;34m(\u001b[0m\u001b[0mx\u001b[0m\u001b[0;34m)\u001b[0m \u001b[0;34m>\u001b[0m \u001b[0;36m0\u001b[0m\u001b[0;34m:\u001b[0m\u001b[0;34m\u001b[0m\u001b[0;34m\u001b[0m\u001b[0m\n\u001b[1;32m     29\u001b[0m                 \u001b[0;31m# Mean training reward over the last 100 episodes\u001b[0m\u001b[0;34m\u001b[0m\u001b[0;34m\u001b[0m\u001b[0;34m\u001b[0m\u001b[0m\n",
      "\u001b[0;31mNameError\u001b[0m: name 'ts2xy' is not defined"
     ]
    }
   ],
   "source": [
    "model.learn(total_timesteps=40000, callback=callback)"
   ]
  },
  {
   "cell_type": "code",
   "execution_count": 27,
   "metadata": {},
   "outputs": [
    {
     "ename": "NameError",
     "evalue": "name 'a' is not defined",
     "output_type": "error",
     "traceback": [
      "\u001b[0;31m---------------------------------------------------------------------------\u001b[0m",
      "\u001b[0;31mNameError\u001b[0m                                 Traceback (most recent call last)",
      "\u001b[0;32m<ipython-input-27-bca0e2660b9f>\u001b[0m in \u001b[0;36m<module>\u001b[0;34m\u001b[0m\n\u001b[0;32m----> 1\u001b[0;31m \u001b[0mprint\u001b[0m\u001b[0;34m(\u001b[0m\u001b[0ma\u001b[0m\u001b[0;34m)\u001b[0m\u001b[0;34m\u001b[0m\u001b[0;34m\u001b[0m\u001b[0m\n\u001b[0m",
      "\u001b[0;31mNameError\u001b[0m: name 'a' is not defined"
     ]
    }
   ],
   "source": []
  },
  {
   "cell_type": "markdown",
   "metadata": {},
   "source": [
    "# 4. Save Model "
   ]
  },
  {
   "cell_type": "code",
   "execution_count": 16,
   "metadata": {},
   "outputs": [],
   "source": [
    "ppo_path = os.path.join('Training', 'Saved Models', 'PPO_Driving_model')"
   ]
  },
  {
   "cell_type": "code",
   "execution_count": 17,
   "metadata": {},
   "outputs": [
    {
     "name": "stderr",
     "output_type": "stream",
     "text": [
      "/home/darias/.local/lib/python3.6/site-packages/stable_baselines3/common/save_util.py:276: UserWarning: Path 'Training/Saved Models' does not exist. Will create it.\n",
      "  warnings.warn(f\"Path '{path.parent}' does not exist. Will create it.\")\n"
     ]
    }
   ],
   "source": [
    "model.save(ppo_path)"
   ]
  },
  {
   "cell_type": "markdown",
   "metadata": {},
   "source": [
    "# 5. Evaluate and Test"
   ]
  },
  {
   "cell_type": "code",
   "execution_count": 18,
   "metadata": {},
   "outputs": [
    {
     "name": "stderr",
     "output_type": "stream",
     "text": [
      "/home/darias/.local/lib/python3.6/site-packages/stable_baselines3/common/evaluation.py:69: UserWarning: Evaluation environment is not wrapped with a ``Monitor`` wrapper. This may result in reporting modified episode lengths and rewards, if other wrappers happen to modify these. Consider wrapping environment first with ``Monitor`` wrapper.\n",
      "  UserWarning,\n"
     ]
    },
    {
     "name": "stdout",
     "output_type": "stream",
     "text": [
      "Track generation: 945..1186 -> 241-tiles track\n",
      "Track generation: 1202..1507 -> 305-tiles track\n",
      "Track generation: 1213..1519 -> 306-tiles track\n",
      "Track generation: 1215..1523 -> 308-tiles track\n",
      "Track generation: 1084..1363 -> 279-tiles track\n",
      "Track generation: 1244..1559 -> 315-tiles track\n",
      "Track generation: 1215..1523 -> 308-tiles track\n",
      "Track generation: 1380..1729 -> 349-tiles track\n",
      "Track generation: 1102..1382 -> 280-tiles track\n",
      "Track generation: 1098..1377 -> 279-tiles track\n",
      "Track generation: 1116..1399 -> 283-tiles track\n"
     ]
    },
    {
     "data": {
      "text/plain": [
       "(-68.6785084053874, 11.414287918656289)"
      ]
     },
     "execution_count": 18,
     "metadata": {},
     "output_type": "execute_result"
    }
   ],
   "source": [
    "evaluate_policy(model, env, n_eval_episodes=10, render=True)"
   ]
  },
  {
   "cell_type": "code",
   "execution_count": 19,
   "metadata": {},
   "outputs": [],
   "source": [
    "env.close()"
   ]
  },
  {
   "cell_type": "code",
   "execution_count": null,
   "metadata": {},
   "outputs": [],
   "source": [
    "episodes = 5\n",
    "for episodes in range(1, episodes+1):\n",
    "    obs = env.reset()\n",
    "    done = False\n",
    "    score = 0\n",
    "    \n",
    "    while not done:\n",
    "        env.render()\n",
    "        action, _ = model.predict(obs)\n",
    "        obs, reward, done, info = env.step(action)\n",
    "        score += reward\n",
    "    print('Episode:{} Score:{}'.format(episode, score))\n",
    "env.close()"
   ]
  },
  {
   "cell_type": "code",
   "execution_count": null,
   "metadata": {},
   "outputs": [],
   "source": [
    "obs = env.reset()\n",
    "while True:\n",
    "    action, _states = model.predict(obs)\n",
    "    obs, rewards, dones, info = env.step(action)\n",
    "    env.render()"
   ]
  },
  {
   "cell_type": "code",
   "execution_count": null,
   "metadata": {},
   "outputs": [],
   "source": [
    "env.close()"
   ]
  }
 ],
 "metadata": {
  "kernelspec": {
   "display_name": "Python 3",
   "language": "python",
   "name": "python3"
  },
  "language_info": {
   "codemirror_mode": {
    "name": "ipython",
    "version": 3
   },
   "file_extension": ".py",
   "mimetype": "text/x-python",
   "name": "python",
   "nbconvert_exporter": "python",
   "pygments_lexer": "ipython3",
   "version": "3.6.9"
  }
 },
 "nbformat": 4,
 "nbformat_minor": 2
}
