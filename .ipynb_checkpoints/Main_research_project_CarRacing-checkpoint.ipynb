{
 "cells": [
  {
   "cell_type": "markdown",
   "id": "b4438831",
   "metadata": {},
   "source": [
    "## Imports"
   ]
  },
  {
   "cell_type": "markdown",
   "id": "1042c852",
   "metadata": {},
   "source": [
    "### RL"
   ]
  },
  {
   "cell_type": "code",
   "execution_count": null,
   "id": "59935980",
   "metadata": {},
   "outputs": [],
   "source": [
    "pip list"
   ]
  },
  {
   "cell_type": "code",
   "execution_count": null,
   "id": "e07ce256",
   "metadata": {},
   "outputs": [],
   "source": [
    "pip uninstall gym -y"
   ]
  },
  {
   "cell_type": "code",
   "execution_count": null,
   "id": "42cc75fb",
   "metadata": {},
   "outputs": [],
   "source": [
    "pip install gym"
   ]
  },
  {
   "cell_type": "code",
   "execution_count": null,
   "id": "01bac16b",
   "metadata": {},
   "outputs": [],
   "source": [
    "pip uninstall tensorflow -y"
   ]
  },
  {
   "cell_type": "code",
   "execution_count": null,
   "id": "f8f60921",
   "metadata": {},
   "outputs": [],
   "source": [
    "pip install tensorflow==1.15.2"
   ]
  },
  {
   "cell_type": "code",
   "execution_count": null,
   "id": "b0fe559c",
   "metadata": {},
   "outputs": [],
   "source": [
    "from tensorflow.python.compiler import tensorrt as trt"
   ]
  },
  {
   "cell_type": "code",
   "execution_count": null,
   "id": "6cf722eb",
   "metadata": {
    "scrolled": false
   },
   "outputs": [],
   "source": [
    "import stable_baselines\n",
    "stable_baselines.__version__"
   ]
  },
  {
   "cell_type": "code",
   "execution_count": null,
   "id": "82057e04",
   "metadata": {},
   "outputs": [],
   "source": [
    "pip uninstall gym -y"
   ]
  },
  {
   "cell_type": "code",
   "execution_count": null,
   "id": "72190a4f",
   "metadata": {},
   "outputs": [],
   "source": [
    "pip install gym==0.20.0"
   ]
  },
  {
   "cell_type": "code",
   "execution_count": null,
   "id": "b52baa8e",
   "metadata": {},
   "outputs": [],
   "source": [
    "import os\n",
    "\n",
    "import gym\n",
    "import numpy as np\n",
    "import matplotlib.pyplot as plt\n",
    "\n",
    "from stable_baselines import DDPG, TD3\n",
    "from stable_baselines.ddpg.policies import LnMlpPolicy\n",
    "from stable_baselines.bench import Monitor\n",
    "from stable_baselines.results_plotter import load_results, ts2xy\n",
    "from stable_baselines.common.noise import AdaptiveParamNoiseSpec, NormalActionNoise\n",
    "from stable_baselines.common.callbacks import BaseCallback\n",
    "\n",
    "#Import the ml_monotor library\n",
    "import ml_monitor\n",
    "import time"
   ]
  },
  {
   "cell_type": "markdown",
   "id": "a1099af2",
   "metadata": {},
   "source": [
    "### Callback function"
   ]
  },
  {
   "cell_type": "code",
   "execution_count": null,
   "id": "9bf064e2",
   "metadata": {},
   "outputs": [],
   "source": [
    "class SaveOnBestTrainingRewardCallback(BaseCallback):\n",
    "    \"\"\"\n",
    "    Callback for saving a model (the check is done every ``check_freq`` steps)\n",
    "    based on the training reward (in practice, we recommend using ``EvalCallback``).\n",
    "\n",
    "    :param check_freq: (int)\n",
    "    :param log_dir: (str) Path to the folder where the model will be saved.\n",
    "      It must contains the file created by the ``Monitor`` wrapper.\n",
    "    :param verbose: (int)\n",
    "    \"\"\"\n",
    "    def __init__(self, check_freq: int, log_dir: str, verbose=1):\n",
    "        super(SaveOnBestTrainingRewardCallback, self).__init__(verbose)\n",
    "        self.check_freq = check_freq\n",
    "        self.log_dir = log_dir\n",
    "        self.save_path = os.path.join(log_dir, 'best_model')\n",
    "        self.best_mean_reward = -np.inf\n",
    "\n",
    "    def _init_callback(self) -> None:\n",
    "        my_monitor.monitor(\"testing_switch\",0)\n",
    "        my_monitor.monitor(\"training_switch\",1)\n",
    "        # Create folder if needed\n",
    "        if self.save_path is not None:\n",
    "            os.makedirs(self.save_path, exist_ok=True)\n",
    "\n",
    "    def _on_step(self) -> bool:\n",
    "        if self.n_calls % self.check_freq == 0:\n",
    "\n",
    "            # Retrieve training reward\n",
    "            x, y = ts2xy(load_results(self.log_dir), 'timesteps')\n",
    "            if len(x) > 0:\n",
    "                # Mean training reward over the last 100 episodes\n",
    "                mean_reward = np.mean(y[-100:])\n",
    "                if self.verbose > 0:\n",
    "                    print(\"Num timesteps: {}\".format(self.num_timesteps))\n",
    "                    print(\"Best mean reward: {:.2f} - Last mean reward per episode: {:.2f}\".format(self.best_mean_reward, mean_reward))\n",
    "                    my_monitor.monitor(\"num_timesteps\",self.num_timesteps)\n",
    "                    my_monitor.monitor(\"mean_reward\",mean_reward)\n",
    "                    \n",
    "            # New best model, you could save the agent here\n",
    "            if mean_reward > self.best_mean_reward:\n",
    "                self.best_mean_reward = mean_reward\n",
    "                my_monitor.monitor(\"best_mean_reward\",self.best_mean_reward)\n",
    "                # Example for saving best model\n",
    "                if self.verbose > 0:\n",
    "                    print(\"Saving new best model to {}\".format(self.save_path))\n",
    "                self.model.save(self.save_path)\n",
    "\n",
    "        return True"
   ]
  },
  {
   "cell_type": "code",
   "execution_count": null,
   "id": "d3f7df0a",
   "metadata": {},
   "outputs": [],
   "source": [
    "# Create log dir\n",
    "log_dir = \"machine-learning/logs/\"\n",
    "os.makedirs(log_dir, exist_ok=True)"
   ]
  },
  {
   "cell_type": "code",
   "execution_count": null,
   "id": "0e9e43e9",
   "metadata": {},
   "outputs": [],
   "source": [
    "# Create and wrap the environment\n",
    "env = gym.make('CarRacing-v0')\n",
    "# Logs will be saved in log_dir/monitor.csv\n",
    "env = Monitor(env, log_dir)"
   ]
  },
  {
   "cell_type": "markdown",
   "id": "bcc099ba",
   "metadata": {},
   "source": [
    "### Train model"
   ]
  },
  {
   "cell_type": "code",
   "execution_count": null,
   "id": "82009773",
   "metadata": {},
   "outputs": [],
   "source": [
    "# Add some param noise for exploration\n",
    "param_noise = AdaptiveParamNoiseSpec(initial_stddev=0.1, desired_action_stddev=0.1)\n",
    "# Create the callback: check every 1000 steps\n",
    "callback = SaveOnBestTrainingRewardCallback(check_freq=1000, log_dir=log_dir)"
   ]
  },
  {
   "cell_type": "code",
   "execution_count": null,
   "id": "a006d94c",
   "metadata": {},
   "outputs": [],
   "source": [
    "my_monitor = ml_monitor.Monitor()\n",
    "my_monitor.start()"
   ]
  },
  {
   "cell_type": "code",
   "execution_count": null,
   "id": "e21bd017",
   "metadata": {
    "scrolled": true
   },
   "outputs": [],
   "source": [
    "# Because we use parameter noise, we should use a MlpPolicy with layer normalization\n",
    "model = DDPG(LnMlpPolicy, env, param_noise=param_noise, verbose=False)\n",
    "# Train the agent\n",
    "model.learn(total_timesteps=int(1e6), callback=callback)"
   ]
  },
  {
   "cell_type": "code",
   "execution_count": null,
   "id": "36e62603",
   "metadata": {},
   "outputs": [],
   "source": [
    "model.save(\"machine-learning/models/CarRacing1e5\")"
   ]
  },
  {
   "cell_type": "markdown",
   "id": "d82554fc",
   "metadata": {},
   "source": [
    "# Testing model"
   ]
  },
  {
   "cell_type": "markdown",
   "id": "f6756105",
   "metadata": {},
   "source": [
    "## Fast import"
   ]
  },
  {
   "cell_type": "code",
   "execution_count": null,
   "id": "31190981",
   "metadata": {
    "scrolled": true
   },
   "outputs": [],
   "source": [
    "import os\n",
    "import gym\n",
    "import time\n",
    "import numpy as np\n",
    "import matplotlib.pyplot as plt\n",
    "import ml_monitor\n",
    "\n",
    "from stable_baselines import DDPG, TD3\n",
    "from stable_baselines.ddpg.policies import LnMlpPolicy\n",
    "from stable_baselines.bench import Monitor\n",
    "from stable_baselines.results_plotter import load_results, ts2xy\n",
    "from stable_baselines.common.noise import AdaptiveParamNoiseSpec, NormalActionNoise\n",
    "from stable_baselines.common.callbacks import BaseCallback"
   ]
  },
  {
   "cell_type": "markdown",
   "id": "af5d894e",
   "metadata": {},
   "source": [
    "## Loading model"
   ]
  },
  {
   "cell_type": "code",
   "execution_count": null,
   "id": "f38ba807",
   "metadata": {
    "scrolled": true
   },
   "outputs": [],
   "source": [
    "del model"
   ]
  },
  {
   "cell_type": "code",
   "execution_count": null,
   "id": "7afb180b",
   "metadata": {
    "scrolled": true
   },
   "outputs": [],
   "source": [
    "env = gym.make('CarRacing-v0')\n",
    "model = DDPG.load(\"machine-learning/models/CarRacing1e5\")"
   ]
  },
  {
   "cell_type": "markdown",
   "id": "16cc7473",
   "metadata": {},
   "source": [
    "## Agent environment"
   ]
  },
  {
   "cell_type": "code",
   "execution_count": null,
   "id": "e9b93cbc",
   "metadata": {},
   "outputs": [],
   "source": [
    "my_monitor = ml_monitor.Monitor()\n",
    "my_monitor.start()"
   ]
  },
  {
   "cell_type": "code",
   "execution_count": null,
   "id": "f894f4cd",
   "metadata": {
    "scrolled": true
   },
   "outputs": [],
   "source": [
    "# Enjoy trained agent\n",
    "my_monitor.monitor(\"testing_switch\",1)\n",
    "my_monitor.monitor(\"training_switch\",0)\n",
    "episodes = 100\n",
    "for episodes in range(1, episodes+1):\n",
    "    obs = env.reset()\n",
    "    done = False\n",
    "    score = 0\n",
    "    \n",
    "    while not done:\n",
    "        env.render()\n",
    "        action, _ = model.predict(obs)\n",
    "        obs, reward, done, info = env.step(action)\n",
    "        score += reward\n",
    "    my_monitor.monitor(\"testing_episodes\",episodes)\n",
    "    my_monitor.monitor(\"testing_score\",score)\n",
    "    print('Episode:{} Score:{}'.format(episodes, score))\n",
    "    time.sleep(3)\n",
    "env.close()"
   ]
  },
  {
   "cell_type": "code",
   "execution_count": null,
   "id": "1601f234",
   "metadata": {},
   "outputs": [],
   "source": [
    "env.close()"
   ]
  },
  {
   "cell_type": "markdown",
   "id": "d3c99a05",
   "metadata": {},
   "source": [
    "# Ploting results"
   ]
  },
  {
   "cell_type": "code",
   "execution_count": null,
   "id": "61026471",
   "metadata": {},
   "outputs": [],
   "source": [
    "from stable_baselines import results_plotter\n",
    "\n",
    "# Helper from the library\n",
    "results_plotter.plot_results([log_dir], 1e5, results_plotter.X_TIMESTEPS, \"DDPG LunarLander\")"
   ]
  },
  {
   "cell_type": "code",
   "execution_count": null,
   "id": "a26f49b3",
   "metadata": {},
   "outputs": [],
   "source": [
    "def moving_average(values, window):\n",
    "    \"\"\"\n",
    "    Smooth values by doing a moving average\n",
    "    :param values: (numpy array)\n",
    "    :param window: (int)\n",
    "    :return: (numpy array)\n",
    "    \"\"\"\n",
    "    weights = np.repeat(1.0, window) / window\n",
    "    return np.convolve(values, weights, 'valid')\n",
    "\n",
    "\n",
    "def plot_results(log_folder, title='Learning Curve'):\n",
    "    \"\"\"\n",
    "    plot the results\n",
    "\n",
    "    :param log_folder: (str) the save location of the results to plot\n",
    "    :param title: (str) the title of the task to plot\n",
    "    \"\"\"\n",
    "    x, y = ts2xy(load_results(log_folder), 'timesteps')\n",
    "    y = moving_average(y, window=50)\n",
    "    # Truncate x\n",
    "    x = x[len(x) - len(y):]\n",
    "\n",
    "    fig = plt.figure(title)\n",
    "    plt.plot(x, y)\n",
    "    plt.xlabel('Number of Timesteps')\n",
    "    plt.ylabel('Rewards')\n",
    "    plt.title(title + \" Smoothed\")\n",
    "    plt.show()\n"
   ]
  },
  {
   "cell_type": "code",
   "execution_count": null,
   "id": "9f66a8b5",
   "metadata": {
    "scrolled": false
   },
   "outputs": [],
   "source": [
    "plot_results(log_dir)"
   ]
  },
  {
   "cell_type": "code",
   "execution_count": null,
   "id": "d8c0aee3",
   "metadata": {},
   "outputs": [],
   "source": []
  }
 ],
 "metadata": {
  "kernelspec": {
   "display_name": "Python 3",
   "language": "python",
   "name": "python3"
  },
  "language_info": {
   "codemirror_mode": {
    "name": "ipython",
    "version": 3
   },
   "file_extension": ".py",
   "mimetype": "text/x-python",
   "name": "python",
   "nbconvert_exporter": "python",
   "pygments_lexer": "ipython3",
   "version": "3.6.9"
  }
 },
 "nbformat": 4,
 "nbformat_minor": 5
}
